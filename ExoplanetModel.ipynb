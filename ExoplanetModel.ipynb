{
 "cells": [
  {
   "cell_type": "markdown",
   "metadata": {
    "colab_type": "text",
    "id": "view-in-github"
   },
   "source": [
    "<a href=\"https://colab.research.google.com/github/ashcat2005/lightcurve-exoplanet/blob/main/ExoplanetModel.ipynb\" target=\"_parent\"><img src=\"https://colab.research.google.com/assets/colab-badge.svg\" alt=\"Open In Colab\"/></a>"
   ]
  },
  {
   "cell_type": "markdown",
   "metadata": {
    "id": "q4G0M4o6F7CZ"
   },
   "source": [
    "# Exoplanet Model"
   ]
  },
  {
   "cell_type": "markdown",
   "metadata": {
    "id": "j25Glvxbzv4D"
   },
   "source": [
    "---\n",
    "## Flux Model\n",
    "Simple model of the flux (without limb darkening). Eq. (1) in reference [1] or Eq. (2.1) in [2].\n",
    "\n",
    "\\begin{equation}\n",
    "F^e (p,z) = 1 - \\lambda^e(p,z)\n",
    "\\end{equation}\n",
    "where\n",
    "\\begin{equation}\n",
    "\\lambda^e (p,z) = \n",
    "\\begin{cases}\n",
    "0 & 1+p <z \\\\\n",
    "\\frac{1}{\\pi} \\left[ p^2 \\kappa_0 + \\kappa_1 - \\sqrt{\\frac{4z^2 - (1+z^2-p^2)^2}{4}} \\right] & |1-p| <z\\leq 1+p \\\\\n",
    "p^2  & z \\leq 1-p \\\\\n",
    "1 & z \\leq p-1\n",
    "\\end{cases}\n",
    "\\end{equation}\n",
    "and\n",
    "\\begin{align}\n",
    "\\kappa_1 = &\\cos^{-1}\\left[\\frac{1-p^2+z^2}{2z} \\right] \\\\\n",
    "\\kappa_0 = &\\cos^{-1}\\left[\\frac{p^2+z^2-1}{2pz} \\right]\n",
    "\\end{align}"
   ]
  },
  {
   "cell_type": "code",
   "execution_count": 1,
   "metadata": {
    "id": "nAKtfuaXowOQ"
   },
   "outputs": [],
   "source": [
    "import numpy as np\n",
    "import matplotlib.pyplot as plt\n",
    "\n",
    "def L(p, z):\n",
    "  '''\n",
    "  Obstruction function\n",
    "  '''\n",
    "  if z>1+p:\n",
    "    return 0.\n",
    "  elif (1-p<z and z<=1+p):\n",
    "    k0 = np.arccos((p**2 + z**2 -1)/(2*p*z))\n",
    "    k1 = np.arccos((1-p**2 + z**2)/(2*z))\n",
    "    L0 = k0*p**2\n",
    "    L2 = np.sqrt((4*z**2- (1+z**2-p**2)**2)/4) \n",
    "    return (L0 + k1 - L2)/np.pi\n",
    "  elif (z>=0. and z<=1-p):\n",
    "    return p**2\n",
    "  elif z<= p-1: # Check this option!!\n",
    "    return 1.\n",
    "\n",
    "p = 0.1 # Ratio of sizes r_p/r_*\n",
    "\n",
    "n=100 # Number of points in the grid\n",
    "z = np.linspace(0.,1.5,n) #Values of the adimensional distance z\n",
    "F = np.zeros(n) # Flux\n",
    "\n",
    "# Determine the flux at each value of z\n",
    "for i in range(n):\n",
    "  F[i] = 1. - L(p,z[i])\n"
   ]
  },
  {
   "cell_type": "code",
   "execution_count": 4,
   "metadata": {
    "colab": {
     "base_uri": "https://localhost:8080/",
     "height": 446
    },
    "id": "3uiFCKB-7O0i",
    "outputId": "936d080f-cca3-4af9-f607-43fb9c46440d"
   },
   "outputs": [
    {
     "data": {
      "image/png": "[encoded data removed]",
      "text/plain": [
       "<Figure size 504x504 with 1 Axes>"
      ]
     },
     "metadata": {
      "needs_background": "light",
      "tags": []
     },
     "output_type": "display_data"
    }
   ],
   "source": [
    "# Plot the Flux as function of z\n",
    "plt.figure(figsize=(7,7))\n",
    "plt.plot(z, F)\n",
    "plt.hlines(1., 0., 1.2,linestyle='dashed', alpha=0.3)\n",
    "plt.ylim(0.9,1.1)\n",
    "plt.xlabel(r'$z$')\n",
    "plt.ylabel(r'$F(p,z)$')\n",
    "plt.show()"
   ]
  },
  {
   "cell_type": "markdown",
   "metadata": {
    "id": "eVqrf32g1Tzv"
   },
   "source": [
    "---\n",
    "## Limb-Darkening\n",
    "Simple model for the limb-darkening. Eq. (2.2) of [2].\n",
    "\n",
    "\\begin{equation}\n",
    "I(r) = 1 - \\gamma_1 (1-\\mu) - \\gamma_2 (1-\\mu)^2\n",
    "\\end{equation}\n",
    "where\n",
    "\\begin{equation}\n",
    "\\mu = \\cos \\theta = \\sqrt{1-r^2}.\n",
    "\\end{equation}"
   ]
  },
  {
   "cell_type": "code",
   "execution_count": 5,
   "metadata": {
    "id": "pSCQi29b7fI8"
   },
   "outputs": [],
   "source": [
    "\n",
    "def I(r):\n",
    "  '''\n",
    "  Limb-darkening function\n",
    "  '''\n",
    "  gamma1 = 0.5 \n",
    "  gamma2 = 0.1\n",
    "  mu = np.sqrt(1-r**2) \n",
    "  return 1. - gamma1*(1-mu) - gamma2*(1-mu)**2\n",
    "\n",
    "# Saptial grid\n",
    "n = 100\n",
    "r = np.linspace(0., 1., n)"
   ]
  },
  {
   "cell_type": "code",
   "execution_count": 6,
   "metadata": {
    "colab": {
     "base_uri": "https://localhost:8080/",
     "height": 461
    },
    "id": "4iX3NxKpCLqZ",
    "outputId": "70477c45-b962-4b85-ab7b-1d9499e873ee"
   },
   "outputs": [
    {
     "data": {
      "image/png": "[encoded data removed]",
      "text/plain": [
       "<Figure size 504x504 with 1 Axes>"
      ]
     },
     "metadata": {
      "needs_background": "light",
      "tags": []
     },
     "output_type": "display_data"
    }
   ],
   "source": [
    "#Plot the limb-darkening function\n",
    "plt.figure(figsize=(7,7))\n",
    "plt.plot(r, I(r))\n",
    "plt.title(r'Limb Darkening')\n",
    "plt.xlabel(r'$I(r)$')\n",
    "plt.ylabel(r'$r$')\n",
    "plt.show()"
   ]
  },
  {
   "cell_type": "markdown",
   "metadata": {
    "id": "nvMi2S62sejj"
   },
   "source": [
    "---\n",
    "## Quadratic Limb Darkening"
   ]
  },
  {
   "cell_type": "markdown",
   "metadata": {},
   "source": [
    "## Flux with quadratic limb darkening through numerical integration\n",
    "\n",
    "The paper has problems in the analytic solutions of the integrals of the flux, so it was decided to obtain the theoretical curve by the direct numerical integration in the equation of the flux.\n",
    "\n",
    "\\begin{equation}\n",
    "F(p,z) = \\left[ \\int_0^1 dr 2r I(r)\\right]^{-1} \\int_0^1 dr I(r) \\frac{d\\left[ F^e \\left(\\frac{p}{r}, \\frac{z}{r} \\right) r^2 \\right]}{dr}\n",
    "\\end{equation}"
   ]
  },
  {
   "cell_type": "code",
   "execution_count": 9,
   "metadata": {},
   "outputs": [
    {
     "data": {
      "image/png": "[encoded data removed]",
      "text/plain": [
       "<Figure size 504x504 with 1 Axes>"
      ]
     },
     "metadata": {
      "needs_background": "light"
     },
     "output_type": "display_data"
    }
   ],
   "source": [
    "# Quadratic Limb Darkening Model\n",
    "\n",
    "from scipy.misc import derivative\n",
    "import scipy.integrate as integrate\n",
    "import numpy as np\n",
    "import matplotlib.pyplot as plt\n",
    "\n",
    "def L(r, P, Z):\n",
    "  '''\n",
    "  Obstruction function\n",
    "  '''\n",
    "  p = P/r\n",
    "  z0 = Z/r\n",
    "  \n",
    "  # Reflects the information w.r.t. the y axis  \n",
    "  if z0>0:\n",
    "    z = z0\n",
    "  if z0<0:\n",
    "    z = -z0\n",
    "    \n",
    "  if z>1+p:\n",
    "    return 0.\n",
    "  elif (abs(1-p)<z and z<=1+p):\n",
    "    k0 = np.arccos((p**2 + z**2 -1)/(2*p*z))\n",
    "    k1 = np.arccos((1-p**2 + z**2)/(2*z))\n",
    "    L0 = k0*p**2\n",
    "    L2 = np.sqrt((4*z**2- (1+z**2-p**2)**2)/4) \n",
    "    return (L0 + k1 - L2)*r**2/np.pi\n",
    "  elif (z<=1-p):\n",
    "    return p**2*r**2\n",
    "  elif z<= p-1: # Check this option!!\n",
    "    return 1.*r**2\n",
    "\n",
    "\n",
    "def I_function(r):\n",
    "  '''\n",
    "  Quadratic limb-darkening function\n",
    "  '''\n",
    "  mu = np.sqrt(1-r**2) \n",
    "  return 1. - gamma1*(1-mu) - gamma2*(1-mu)**2\n",
    "\n",
    "\n",
    "def integrand_1(r, p, z):\n",
    "  '''\n",
    "  Integrand in the numerator\n",
    "  '''\n",
    "  T1 = derivative(L, r, dx=1e-6, args=(p,z))\n",
    "  T2 = I_function(r)\n",
    "  return T1*T2\n",
    "\n",
    "\n",
    "def integrand_2(r):\n",
    "  '''\n",
    "  Integrand in the denominator\n",
    "  '''\n",
    "  return I_function(r)*2*r\n",
    "\n",
    "# Parameters for the model\n",
    "gamma1 = 0.296 \n",
    "gamma2 = 0.34\n",
    "p=0.1\n",
    "\n",
    "# Discretization grid\n",
    "N = 400\n",
    "z_max = 3.\n",
    "z_min = - z_max\n",
    "z_range = np.linspace(z_min,z_max,N)\n",
    "\n",
    "# Flux\n",
    "F = np.zeros(N)\n",
    "\n",
    "# Main Loop to calculate the Flux\n",
    "for i in range(N):\n",
    "  Integral_1 = integrate.quad(integrand_1, 0.0001, 1., args=(p,z_range[i]))[0]\n",
    "  Integral_2 = integrate.quad(integrand_2, 0.0001, 1.)[0]\n",
    "  F[i] = 1. - Integral_1/Integral_2\n",
    "\n",
    "# Plot the Flux as function of z\n",
    "plt.figure(figsize=(7,7))\n",
    "plt.plot(z_range, F)\n",
    "plt.hlines(1., z_min, z_max,linestyle='dashed', alpha=0.3)\n",
    "plt.xlabel(r'$z$')\n",
    "plt.ylabel(r'$F(p,z)$')\n",
    "plt.title('Exoplanet Transit Lightcurve')\n",
    "plt.show()"
   ]
  },
  {
   "cell_type": "markdown",
   "metadata": {},
   "source": [
    "## Orbital model\n",
    "\n",
    "### Circular orbit\n",
    "\n",
    "For a circular orbit we have that the radial velocity of the planet around the star behaves as\n",
    "\n",
    "\\begin{equation}\n",
    "    V_R(t) = K \\cdot sin\\left(\\frac{2 \\pi}{P}t+t_0\\right) + V_{R0} \n",
    "\\end{equation}\n",
    "\n",
    "where $t$ is the time, $K$ is the absolute of the maximum radial velo city, $P$ is the period of the orbit, $t_0$\n",
    "is the phase and $V_{R0}$ is the radial velo city of the system's center of mass."
   ]
  },
  {
   "cell_type": "code",
   "execution_count": null,
   "metadata": {},
   "outputs": [],
   "source": [
    "import numpy as np\n",
    "import matplotlib.pyplot as plt\n",
    "\n",
    "def radial_velocity(K, P, t, t_0 = 0, V_R0 = 0):\n",
    "    \"\"\"\n",
    "    By default t_0 = 0 and V_R0 = 0\n",
    "    \"\"\"\n",
    "    return K*np.sin((2*np.pi/P)*t+t_0) + V_R0\n",
    "\n"
   ]
  },
  {
   "cell_type": "markdown",
   "metadata": {},
   "source": [
    "## Initial Parameters\n",
    "\n",
    "|Parameter | value|\n",
    "|---|---|\n",
    "|Radius ratio | $\\frac{R_p}{R_*}$  |\n",
    "|Impact parameter| $b$|\n",
    "|Linear limb darkening parameter| $\\gamma_1$|\n",
    "|Quadratic limb darkening parameter| $\\gamma_2$|\n",
    "|Semi-major axis|$\\frac{a}{R_*}$|\n",
    "|Orbital period|T|\n",
    "|Orbital phase|$\\delta$|\n",
    "\n",
    "Coordinate $z$ as function of time $t$,\n",
    "\n",
    "\\begin{equation}\n",
    "z(t) =  a \\cos (\\omega t + \\delta)\n",
    "\\end{equation}\n",
    "\n",
    "where\n",
    "\\begin{equation}\n",
    "\\omega = \\frac{2\\pi}{T}\n",
    "\\end{equation}"
   ]
  },
  {
   "cell_type": "code",
   "execution_count": 4,
   "metadata": {},
   "outputs": [
    {
     "data": {
      "image/png": "[encoded data removed]",
      "text/plain": [
       "<Figure size 504x504 with 1 Axes>"
      ]
     },
     "metadata": {
      "needs_background": "light"
     },
     "output_type": "display_data"
    }
   ],
   "source": [
    "from scipy.misc import derivative\n",
    "import scipy.integrate as integrate\n",
    "import numpy as np\n",
    "import matplotlib.pyplot as plt\n",
    "\n",
    "def L(r, P, Z):\n",
    "  '''\n",
    "  Obstruction function\n",
    "  '''\n",
    "  p = P/r\n",
    "  z0 = Z/r\n",
    "  \n",
    "  # Reflects the information w.r.t. the y axis  \n",
    "  if z0>0:\n",
    "    z = z0\n",
    "  if z0<0:\n",
    "    z = -z0\n",
    "    \n",
    "  if z>1+p:\n",
    "    return 0.\n",
    "  elif (abs(1-p)<z and z<=1+p):\n",
    "    k0 = np.arccos((p**2 + z**2 -1)/(2*p*z))\n",
    "    k1 = np.arccos((1-p**2 + z**2)/(2*z))\n",
    "    L0 = k0*p**2\n",
    "    L2 = np.sqrt((4*z**2- (1+z**2-p**2)**2)/4) \n",
    "    return (L0 + k1 - L2)*r**2/np.pi\n",
    "  elif (z<=1-p):\n",
    "    return p**2*r**2\n",
    "  elif z<= p-1: # Check this option!!\n",
    "    return 1.*r**2\n",
    "\n",
    "\n",
    "def I_function(r):\n",
    "  '''\n",
    "  Quadratic limb-darkening function\n",
    "  '''\n",
    "  mu = np.sqrt(1-r**2) \n",
    "  return 1. - gamma1*(1-mu) - gamma2*(1-mu)**2\n",
    "\n",
    "\n",
    "def integrand_1(r, p, z):\n",
    "  '''\n",
    "  Integrand in the numerator\n",
    "  '''\n",
    "  T1 = derivative(L, r, dx=1e-6, args=(p,z))\n",
    "  T2 = I_function(r)\n",
    "  return T1*T2\n",
    "\n",
    "\n",
    "def integrand_2(r):\n",
    "  '''\n",
    "  Integrand in the denominator\n",
    "  '''\n",
    "  return I_function(r)*2*r\n",
    "\n",
    "\n",
    "\n",
    "# Parameters for the model\n",
    "p=0.1 #radius ratio\n",
    "gamma1 = 0.296 #linear limb darkening \n",
    "gamma2 = 0.34 #quadratic limb darkening\n",
    "a = 2. #semi-major axis\n",
    "T = 10. #orbital period\n",
    "delta = 0. #orbital phase\n",
    "omega = 2*np.pi/P #angular velocity\n",
    "\n",
    "# Grid definition\n",
    "N = 1000\n",
    "t = np.linspace(0.,30,N)\n",
    "z_range = a*np.cos(omega*t+delta)\n",
    "\n",
    "\n",
    "# Flux\n",
    "F = np.zeros(N)\n",
    "\n",
    "# Main Loop to calculate the Flux\n",
    "for i in range(N):\n",
    "  Integral_1 = integrate.quad(integrand_1, 0.0001, 1., args=(p,z_range[i]))[0]\n",
    "  Integral_2 = integrate.quad(integrand_2, 0.0001, 1.)[0]\n",
    "  F[i] = 1. - Integral_1/Integral_2\n",
    "\n",
    "# Plot the Flux as function of z\n",
    "plt.figure(figsize=(7,7))\n",
    "plt.plot(t, F)\n",
    "plt.hlines(1., t[0], t[-1],linestyle='dashed', alpha=0.3)\n",
    "plt.xlabel(r'$z$')\n",
    "plt.ylabel(r'$F(p,z)$')\n",
    "plt.title('Exoplanet Transit Lightcurve')\n",
    "plt.show()"
   ]
  },
  {
   "cell_type": "markdown",
   "metadata": {
    "id": "UuJQ-xDB1mCn"
   },
   "source": [
    "---\n",
    "## References\n",
    "\n",
    "\n",
    "1. K. Mandel and E. Agol. *Analytic Lightcurves for Planetary Transit Searches*. [astro-ph:0210099](https://arxiv.org/pdf/astro-ph/0210099.pdf).\n",
    "\n",
    "2. [Modelling Exoplanets by D. Compton, D. Juncher and N. Vinyoles](https://phys.au.dk/fileadmin/Project_updated_gr.1.pdf)\n",
    "\n",
    "3. S. Seager and G. Mallén-Ornelas. *On the Unique Solution of Planet and Star Parameters from an Extrasolar Planet Transit Light Curve*. [astro-ph:0206228](https://arxiv.org/pdf/astro-ph/0206228.pdf)"
   ]
  },
  {
   "cell_type": "code",
   "execution_count": null,
   "metadata": {},
   "outputs": [],
   "source": []
  }
 ],
 "metadata": {
  "colab": {
   "authorship_tag": "ABX9TyMjutcivY3k4J5q6DI5WC5x",
   "collapsed_sections": [],
   "include_colab_link": true,
   "mount_file_id": "1CP3hzEwfA7nHp4duMTr-t3GdLsGtb9Zc",
   "name": "ExoplanetModel.ipynb",
   "provenance": []
  },
  "kernelspec": {
   "display_name": "Python 3 (ipykernel)",
   "language": "python",
   "name": "python3"
  },
  "language_info": {
   "codemirror_mode": {
    "name": "ipython",
    "version": 3
   },
   "file_extension": ".py",
   "mimetype": "text/x-python",
   "name": "python",
   "nbconvert_exporter": "python",
   "pygments_lexer": "ipython3",
   "version": "3.9.5"
  }
 },
 "nbformat": 4,
 "nbformat_minor": 4
}
