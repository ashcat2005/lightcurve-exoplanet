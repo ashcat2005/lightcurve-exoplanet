{
 "cells": [
  {
   "cell_type": "markdown",
   "metadata": {
    "id": "5soGuirloNgq"
   },
   "source": [
    "<img src=\"https://i.ibb.co/TcVMz44/logo.jpg\" alt=\"logo\" border=\"0\" width=200>\n",
    "\n",
    "# Computational Astrophysics 2021\n",
    "---\n",
    "## Eduard Larrañaga\n",
    "\n",
    "Observatorio Astronómico Nacional\\\n",
    "Facultad de Ciencias\\\n",
    "Universidad Nacional de Colombia\n",
    "\n",
    "---"
   ]
  },
  {
   "cell_type": "markdown",
   "metadata": {
    "id": "Ff4KTapaoNgx"
   },
   "source": [
    "## Exoplanet Transit Lightcurve\n",
    "### About this notebook\n",
    "\n",
    "In this worksheet we use the `astropy` package to read a .fits file from the exo.MAST database. We extract the light-curve information and visualize the data.\n",
    "\n",
    "---"
   ]
  },
  {
   "cell_type": "markdown",
   "metadata": {
    "id": "geu4TFRioNgx"
   },
   "source": [
    "In this notebook we will use a .fits file from the exo.MAST database with the information of the lightcurve of the transit of an exoplanet. Go to the page \n",
    "\n",
    "[https://exo.mast.stsci.edu](https://exo.mast.stsci.edu)\n",
    "\n",
    "Click on the `View Table of Exoplanets` link and search for the object **HAT-P-7_b**. \n",
    "\n",
    "Click on the `Kepler Light Curve` link (Top right of the page) and download the data file. \n",
    "\n",
    "\n",
    "\n",
    "Now, we will use the `astropy` package to read the .fits file. For a detalied description of working with .fits files using `astropy`, go to\n",
    "\n",
    "http://docs.astropy.org/en/stable/io/fits/index.html\n"
   ]
  },
  {
   "cell_type": "markdown",
   "metadata": {},
   "source": [
    "---\n",
    "\n",
    "### Open and Close a .fits file\n",
    "\n",
    "The first task is to read one of these files using the function `fits.open()` from the `astropy.io` package. The `open` function returns adn object called HDUList  and therefore it is assigned to the variable `hdul`. This is a list-like collecion of HDU (Header Data Unit) objects."
   ]
  },
  {
   "cell_type": "code",
   "execution_count": 9,
   "metadata": {
    "executionInfo": {
     "elapsed": 1538,
     "status": "ok",
     "timestamp": 1614799172877,
     "user": {
      "displayName": "Eduard Alexis Larranaga",
      "photoUrl": "https://lh3.googleusercontent.com/a-/AOh14GgCVABzEgj-rCdyxWa29RnA0kIYUCXAaVbnRYOEhQ=s64",
      "userId": "04402438389940282602"
     },
     "user_tz": 300
    },
    "id": "qw22p3z7oNgx"
   },
   "outputs": [],
   "source": [
    "from matplotlib import pyplot as plt\n",
    "from astropy.io import fits\n",
    "import numpy as np\n",
    "%matplotlib inline"
   ]
  },
  {
   "cell_type": "code",
   "execution_count": 10,
   "metadata": {
    "executionInfo": {
     "elapsed": 3288,
     "status": "ok",
     "timestamp": 1614799412736,
     "user": {
      "displayName": "Eduard Alexis Larranaga",
      "photoUrl": "https://lh3.googleusercontent.com/a-/AOh14GgCVABzEgj-rCdyxWa29RnA0kIYUCXAaVbnRYOEhQ=s64",
      "userId": "04402438389940282602"
     },
     "user_tz": 300
    },
    "id": "SrFhtLdmoNgy"
   },
   "outputs": [],
   "source": [
    "hdul = fits.open('kplr010666592-20160128150956_dvt.fits')"
   ]
  },
  {
   "cell_type": "markdown",
   "metadata": {
    "id": "aSLno2KtoNgy"
   },
   "source": [
    "The method `.info()` returns a summary of the content of the FITS file."
   ]
  },
  {
   "cell_type": "code",
   "execution_count": 11,
   "metadata": {
    "colab": {
     "base_uri": "https://localhost:8080/"
    },
    "executionInfo": {
     "elapsed": 770,
     "status": "ok",
     "timestamp": 1614799428111,
     "user": {
      "displayName": "Eduard Alexis Larranaga",
      "photoUrl": "https://lh3.googleusercontent.com/a-/AOh14GgCVABzEgj-rCdyxWa29RnA0kIYUCXAaVbnRYOEhQ=s64",
      "userId": "04402438389940282602"
     },
     "user_tz": 300
    },
    "id": "iafc-ab9oNgy",
    "outputId": "5a11f963-cda1-45a4-b06c-337da977115e"
   },
   "outputs": [
    {
     "name": "stdout",
     "output_type": "stream",
     "text": [
      "Filename: kplr010666592-20160128150956_dvt.fits\n",
      "No.    Name      Ver    Type      Cards   Dimensions   Format\n",
      "  0  PRIMARY       1 PrimaryHDU      56   ()      \n",
      "  1  TCE_1         1 BinTableHDU    106   71427R x 10C   [D, E, J, E, E, E, E, E, E, E]   \n",
      "  2  TCE_2         1 BinTableHDU    106   71427R x 10C   [D, E, J, E, E, E, E, E, E, E]   \n",
      "  3  TCE_3         1 BinTableHDU    106   71427R x 10C   [D, E, J, E, E, E, E, E, E, E]   \n",
      "  4  TCE_4         1 BinTableHDU    106   71427R x 10C   [D, E, J, E, E, E, E, E, E, E]   \n",
      "  5  TCE_5         1 BinTableHDU    106   71427R x 10C   [D, E, J, E, E, E, E, E, E, E]   \n",
      "  6  TCE_6         1 BinTableHDU    106   71427R x 10C   [D, E, J, E, E, E, E, E, E, E]   \n",
      "  7  TCE_7         1 BinTableHDU    106   71427R x 10C   [D, E, J, E, E, E, E, E, E, E]   \n",
      "  8  Statistics    1 BinTableHDU    221   71427R x 50C   [D, E, J, E, E, E, E, J, E, E, E, E, E, E, E, E, E, E, E, E, E, E, E, E, E, E, E, E, E, E, E, E, E, E, E, E, E, E, E, E, E, E, E, E, E, E, E, E, E, E]   \n"
     ]
    }
   ],
   "source": [
    "hdul.info()"
   ]
  },
  {
   "cell_type": "markdown",
   "metadata": {
    "id": "N27ZhiiyoNgz"
   },
   "source": [
    "There can be many extensions dentoed by `hdul[0]`, `hdul[1]`, etc. The first one, `hdul[0]`, is called the PRIMARY extension. There is also another type of information as the number of cards and the dimensions of the data table.  \n",
    "\n",
    "Since we open the file to extract and assign the information, it is recommendable to close the file:"
   ]
  },
  {
   "cell_type": "code",
   "execution_count": 12,
   "metadata": {
    "executionInfo": {
     "elapsed": 644,
     "status": "ok",
     "timestamp": 1614799558932,
     "user": {
      "displayName": "Eduard Alexis Larranaga",
      "photoUrl": "https://lh3.googleusercontent.com/a-/AOh14GgCVABzEgj-rCdyxWa29RnA0kIYUCXAaVbnRYOEhQ=s64",
      "userId": "04402438389940282602"
     },
     "user_tz": 300
    },
    "id": "tOKjYS-ToNg0"
   },
   "outputs": [],
   "source": [
    "hdul.close()"
   ]
  },
  {
   "cell_type": "markdown",
   "metadata": {
    "id": "vRfn29-poNg0"
   },
   "source": [
    "### Headers and Data\n",
    "\n",
    "Each HDU object has a `.header` and a `.data` attributes. Using the method `header` of `astropy` it is possible to see the header of each HDU object. For example:"
   ]
  },
  {
   "cell_type": "code",
   "execution_count": 13,
   "metadata": {
    "colab": {
     "base_uri": "https://localhost:8080/"
    },
    "executionInfo": {
     "elapsed": 743,
     "status": "ok",
     "timestamp": 1614799746214,
     "user": {
      "displayName": "Eduard Alexis Larranaga",
      "photoUrl": "https://lh3.googleusercontent.com/a-/AOh14GgCVABzEgj-rCdyxWa29RnA0kIYUCXAaVbnRYOEhQ=s64",
      "userId": "04402438389940282602"
     },
     "user_tz": 300
    },
    "id": "gECmVuDwoNg1",
    "outputId": "44015ee9-7e26-42ee-df1d-7e1846eee64c",
    "scrolled": false
   },
   "outputs": [
    {
     "data": {
      "text/plain": [
       "XTENSION= 'BINTABLE'           / marks the beginning of a new HDU               \n",
       "BITPIX  =                    8 / array data type                                \n",
       "NAXIS   =                    2 / number of array dimensions                     \n",
       "NAXIS1  =                   44 / length of first array dimension                \n",
       "NAXIS2  =                71427 / length of second array dimension               \n",
       "PCOUNT  =                    0 / group parameter count (not used)               \n",
       "GCOUNT  =                    1 / group count (not used)                         \n",
       "TFIELDS =                   10 / number of table fields                         \n",
       "TTYPE1  = 'TIME    '           / column title: data time stamps                 \n",
       "TFORM1  = 'D       '           / column format: 64-bit floating point           \n",
       "TUNIT1  = 'BJD - 2454833'      / column units: barycenter corrected JD          \n",
       "TDISP1  = 'D14.7   '           / column display format                          \n",
       "TTYPE2  = 'TIMECORR'           / column title: Barycenter correction applied to \n",
       "TFORM2  = 'E       '           / column format: 32-bit floating point           \n",
       "TUNIT2  = 'd       '           / column units: day                              \n",
       "TDISP2  = 'E13.6   '           / column display format                          \n",
       "TTYPE3  = 'CADENCENO'          / column title: unique cadence number            \n",
       "TFORM3  = 'J       '           / column format: signed 32-bit integer           \n",
       "TDISP3  = 'I10     '           / column display format                          \n",
       "TTYPE4  = 'PHASE   '           / column title: Phase using period and epoch     \n",
       "TFORM4  = 'E       '           / column format: 32-bit floating point           \n",
       "TUNIT4  = 'days    '           / column units: [-0.25*period, 0.75*period]      \n",
       "TDISP4  = 'E14.7   '           / column display format                          \n",
       "TTYPE5  = 'LC_INIT '           / column title: Quarter stitched initial light cu\n",
       "TFORM5  = 'E       '           / column format: 32-bit floating point           \n",
       "TUNIT5  = 'dimensionless'      / column units: null                             \n",
       "TDISP5  = 'E14.7   '           / column display format                          \n",
       "TTYPE6  = 'LC_INIT_ERR'        / column title: Error in the LC_INIT (gapped)    \n",
       "TFORM6  = 'E       '           / column format: 32-bit floating point           \n",
       "TUNIT6  = 'dimensionless'      / column units: null                             \n",
       "TDISP6  = 'E14.7   '           / column display format                          \n",
       "TTYPE7  = 'LC_WHITE'           / column title: Initial whitened time series fit \n",
       "TFORM7  = 'E       '           / column format: 32-bit floating point           \n",
       "TUNIT7  = 'dimensionless'      / column units: null                             \n",
       "TDISP7  = 'E14.7   '           / column display format                          \n",
       "TTYPE8  = 'LC_DETREND'         / column title: Initial median detrended time ser\n",
       "TFORM8  = 'E       '           / column format: 32-bit floating point           \n",
       "TUNIT8  = 'dimensionless'      / column units: null                             \n",
       "TDISP8  = 'E14.7   '           / column display format                          \n",
       "TTYPE9  = 'MODEL_INIT'         / column title: Model light curve                \n",
       "TFORM9  = 'E       '           / column format: 32-bit floating point           \n",
       "TUNIT9  = 'dimensionless'      / column units: null                             \n",
       "TDISP9  = 'E14.7   '           / column display format                          \n",
       "TTYPE10 = 'MODEL_WHITE'        / column title: Whitened model light curve       \n",
       "TFORM10 = 'E       '           / column format: 32-bit floating point           \n",
       "TUNIT10 = 'dimensionless'      / column units: null                             \n",
       "TDISP10 = 'E14.7   '           / column display format                          \n",
       "INHERIT =                    T / inherit the primary header                     \n",
       "EXTNAME = 'TCE_1   '           / name of extension                              \n",
       "EXTVER  =                    1 / extension version number (not format version)  \n",
       "TELESCOP= 'Kepler  '           / telescope                                      \n",
       "INSTRUME= 'Kepler Photometer'  / detector type                                  \n",
       "OBJECT  = 'KIC 10666592'       / string version of target id                    \n",
       "KEPLERID=             10666592 / unique Kepler target identifier                \n",
       "RADESYS = 'ICRS    '           / reference frame of celestial coordinates       \n",
       "RA_OBJ  =           292.247280 / [deg] right ascension                          \n",
       "DEC_OBJ =            47.969519 / [deg] declination                              \n",
       "EQUINOX =               2000.0 / equinox of celestial coordinate system         \n",
       "EXPOSURE=        1303.40104564 / [d] time on source                             \n",
       "TIMEREF = 'SOLARSYSTEM'        / barycentric correction applied to times        \n",
       "TASSIGN = 'SPACECRAFT'         / where time is assigned                         \n",
       "TIMESYS = 'TDB     '           / time system is barycentric JD                  \n",
       "BJDREFI =              2454833 / integer part of BJD reference date             \n",
       "BJDREFF =           0.00000000 / fraction of the day in BJD reference date      \n",
       "TIMEUNIT= 'd       '           / time unit for TIME, TSTART and TSTOP           \n",
       "TELAPSE =        1459.51153853 / [d] TSTOP - TSTART                             \n",
       "LIVETIME=        1343.67728944 / [d] TELAPSE multiplied by DEADC                \n",
       "TSTART  =         131.49971758 / observation start time in BJD-BJDREF           \n",
       "TSTOP   =        1591.01125610 / observation stop time in BJD-BJDREF            \n",
       "LC_START=       54964.01099382 / mid point of first cadence in MJD              \n",
       "LC_END  =       56423.50115222 / mid point of last cadence in MJD               \n",
       "DEADC   =           0.92063492 / deadtime correction                            \n",
       "TIMEPIXR=                  0.5 / bin time beginning=0 middle=0.5 end=1          \n",
       "TIERRELA=             5.78E-07 / [d] relative time error                        \n",
       "TIERABSO=                      / [d] absolute time error                        \n",
       "INT_TIME=       6.019802903270 / [s] photon accumulation time per frame         \n",
       "READTIME=       0.518948526144 / [s] readout time per frame                     \n",
       "FRAMETIM=       6.538751429414 / [s] frame time (INT_TIME + READTIME)           \n",
       "NUM_FRM =                  270 / number of frames per time stamp                \n",
       "TIMEDEL =     0.02043359821692 / [d] time resolution of data                    \n",
       "DATE-OBS= '2009-05-13T00:01:07.136Z' / TSTART as UTC calendar date              \n",
       "DATE-END= '2013-05-11T12:16:22.281Z' / TSTOP as UTC calendar date               \n",
       "BACKAPP =                    T / background is subtracted                       \n",
       "DEADAPP =                    T / deadtime applied                               \n",
       "VIGNAPP =                    T / vignetting or collimator correction applied    \n",
       "NREADOUT=                  270 / number of read per cadence                     \n",
       "CDPP3_0 =     39.8772087097168 / [ppm] RMS CDPP on 3.0-hr time scales           \n",
       "CDPP6_0 =    36.99407196044922 / [ppm] RMS CDPP on 6.0-hr time scales           \n",
       "CDPP12_0=    35.87911605834961 / [ppm] RMS CDPP on 12.0-hr time scales          \n",
       "TPERIOD =   2.2047313432950926 / transit period [days]                          \n",
       "TEPOCH  =   132.38325784039694 / transit epoch in bkjd [days]                   \n",
       "TDEPTH  =    6676.468037438235 / fitted transit depth [ppm]                     \n",
       "TSNR    =      3564.7177734375 / transit signal-to-noise ratio                  \n",
       "TDUR    =    4.043777670979024 / transit duration [hr]                          \n",
       "INDUR   =  0.46935024696302613 / ingress duration [hr]                          \n",
       "IMPACT  =   0.6220960387188887 / impact parameter                               \n",
       "INCLIN  =    80.47217026829186 / inclination [deg]                              \n",
       "DRRATIO =   3.7582833688288484 / ratio of planet distance to star radius        \n",
       "RADRATIO=  0.07878422599706206 / ratio of planet radius to star radius          \n",
       "PRADIUS =   16.781643160973264 / planet radius in earth radii                   \n",
       "MAXMES  =      3862.1845703125 / maximum multi-event statistic                  \n",
       "MAXSES  =   232.27000427246094 / maximum single-event statistic                 \n",
       "NTRANS  =                  611 / number of transits for this TCE                \n",
       "CONVRGE =                    T / convergence yes/no flag                        \n",
       "MEDDETR =   20.579999923706055 / length of the median detrender filter [hours]  \n",
       "CHECKSUM= 'N1ofP0oZN0odN0oZ'   / HDU checksum updated 2016-03-01T23:21:59Z      "
      ]
     },
     "execution_count": 13,
     "metadata": {},
     "output_type": "execute_result"
    }
   ],
   "source": [
    "hdul[1].header"
   ]
  },
  {
   "cell_type": "markdown",
   "metadata": {
    "id": "yWQMdDkfoNg1"
   },
   "source": [
    "There is a lot of information about the data. For detailed information about the exo.MAST data you can click on the `View Docs` link next to the `Download Data` link in the object's page."
   ]
  },
  {
   "cell_type": "markdown",
   "metadata": {
    "id": "fvdp2yNsoNg2"
   },
   "source": [
    "### Extracting the data from  the HDU object\n",
    "\n",
    "The method `data` from `astropy` gives access to the data of each HDU object. For example, in the following command we will assign the data in the above FITS file to the variable lc_data. Note that we will read the HDU[1] object's data because there is where the light-curve information resides.\n",
    "\n",
    "**Note: It is important to assign this information before closing the .fits file!**"
   ]
  },
  {
   "cell_type": "code",
   "execution_count": 15,
   "metadata": {
    "executionInfo": {
     "elapsed": 656,
     "status": "ok",
     "timestamp": 1614800018196,
     "user": {
      "displayName": "Eduard Alexis Larranaga",
      "photoUrl": "https://lh3.googleusercontent.com/a-/AOh14GgCVABzEgj-rCdyxWa29RnA0kIYUCXAaVbnRYOEhQ=s64",
      "userId": "04402438389940282602"
     },
     "user_tz": 300
    },
    "id": "Oyth0_iRoNg2"
   },
   "outputs": [],
   "source": [
    "hdul = fits.open('kplr010666592-20160128150956_dvt.fits')\n",
    "lc_data = hdul[1].data\n",
    "hdul.close()"
   ]
  },
  {
   "cell_type": "markdown",
   "metadata": {
    "id": "bqxTkVXloNg2"
   },
   "source": [
    "The information is stored in a .FITS_rec format:"
   ]
  },
  {
   "cell_type": "code",
   "execution_count": 16,
   "metadata": {
    "colab": {
     "base_uri": "https://localhost:8080/"
    },
    "executionInfo": {
     "elapsed": 649,
     "status": "ok",
     "timestamp": 1614800039477,
     "user": {
      "displayName": "Eduard Alexis Larranaga",
      "photoUrl": "https://lh3.googleusercontent.com/a-/AOh14GgCVABzEgj-rCdyxWa29RnA0kIYUCXAaVbnRYOEhQ=s64",
      "userId": "04402438389940282602"
     },
     "user_tz": 300
    },
    "id": "bxzTe5eToNg3",
    "outputId": "868d5647-c494-4951-b5a1-7d69cf6d02af"
   },
   "outputs": [
    {
     "data": {
      "text/plain": [
       "astropy.io.fits.fitsrec.FITS_rec"
      ]
     },
     "execution_count": 16,
     "metadata": {},
     "output_type": "execute_result"
    }
   ],
   "source": [
    "type(lc_data)"
   ]
  },
  {
   "cell_type": "markdown",
   "metadata": {
    "id": "-MAwEX2uoNg4"
   },
   "source": [
    "The shape of the array is easily obtained:"
   ]
  },
  {
   "cell_type": "code",
   "execution_count": 17,
   "metadata": {
    "colab": {
     "base_uri": "https://localhost:8080/"
    },
    "executionInfo": {
     "elapsed": 731,
     "status": "ok",
     "timestamp": 1614800052918,
     "user": {
      "displayName": "Eduard Alexis Larranaga",
      "photoUrl": "https://lh3.googleusercontent.com/a-/AOh14GgCVABzEgj-rCdyxWa29RnA0kIYUCXAaVbnRYOEhQ=s64",
      "userId": "04402438389940282602"
     },
     "user_tz": 300
    },
    "id": "u4_k7VQGoNg4",
    "outputId": "42b49934-bd49-4be4-948f-7e79875587a7"
   },
   "outputs": [
    {
     "data": {
      "text/plain": [
       "(71427,)"
      ]
     },
     "execution_count": 17,
     "metadata": {},
     "output_type": "execute_result"
    }
   ],
   "source": [
    "lc_data.shape"
   ]
  },
  {
   "cell_type": "markdown",
   "metadata": {
    "id": "jh2wR3juoNg4"
   },
   "source": [
    "And we can take a peek on the information as"
   ]
  },
  {
   "cell_type": "code",
   "execution_count": 18,
   "metadata": {
    "colab": {
     "base_uri": "https://localhost:8080/"
    },
    "executionInfo": {
     "elapsed": 659,
     "status": "ok",
     "timestamp": 1614800095517,
     "user": {
      "displayName": "Eduard Alexis Larranaga",
      "photoUrl": "https://lh3.googleusercontent.com/a-/AOh14GgCVABzEgj-rCdyxWa29RnA0kIYUCXAaVbnRYOEhQ=s64",
      "userId": "04402438389940282602"
     },
     "user_tz": 300
    },
    "id": "0zTVCvNeoNg4",
    "outputId": "d6fe71f4-f44d-49c5-9f57-f6d48945ae3d"
   },
   "outputs": [
    {
     "data": {
      "text/plain": [
       "FITS_rec([( 131.51205365, -0.00105983,  1105, 1.3335272, -3.9541512e-05, 2.5503115e-05, -0.34372607, -3.9541512e-05, 0., 0.10576324),\n",
       "          ( 131.53248808, -0.00106056,  1106, 1.3539616, -2.2603195e-05, 2.5496436e-05,  0.02918476, -2.2603195e-05, 0., 0.20860007),\n",
       "          ( 131.55292241, -0.00106129,  1107, 1.374396 , -3.5658915e-05, 2.5480678e-05, -0.11320674, -3.5658915e-05, 0., 0.30092743),\n",
       "          ...,\n",
       "          (1590.96039615, -0.00011113, 72529, 1.2497203, -6.9596713e-06, 2.5909627e-05, -0.29629543, -6.9596713e-06, 0., 0.34915897),\n",
       "          (1590.98083036, -0.00011184, 72530, 1.2701546,  6.3239095e-05, 2.5841317e-05,  0.6172695 ,  6.3239095e-05, 0., 0.37782738),\n",
       "          (1591.00126476, -0.00011254, 72531, 1.290589 ,  1.8839075e-04, 2.5825500e-05,  2.642254  ,  1.8839075e-04, 0., 0.40432364)],\n",
       "         dtype=(numpy.record, [('TIME', '>f8'), ('TIMECORR', '>f4'), ('CADENCENO', '>i4'), ('PHASE', '>f4'), ('LC_INIT', '>f4'), ('LC_INIT_ERR', '>f4'), ('LC_WHITE', '>f4'), ('LC_DETREND', '>f4'), ('MODEL_INIT', '>f4'), ('MODEL_WHITE', '>f4')]))"
      ]
     },
     "execution_count": 18,
     "metadata": {},
     "output_type": "execute_result"
    }
   ],
   "source": [
    "lc_data"
   ]
  },
  {
   "cell_type": "markdown",
   "metadata": {
    "id": "Wws_h7R6oNg5"
   },
   "source": [
    "Note that the final row contains the tags of each column.\n",
    "\n",
    "The first row is obtained as"
   ]
  },
  {
   "cell_type": "code",
   "execution_count": 19,
   "metadata": {
    "colab": {
     "base_uri": "https://localhost:8080/"
    },
    "executionInfo": {
     "elapsed": 1594,
     "status": "ok",
     "timestamp": 1614800131058,
     "user": {
      "displayName": "Eduard Alexis Larranaga",
      "photoUrl": "https://lh3.googleusercontent.com/a-/AOh14GgCVABzEgj-rCdyxWa29RnA0kIYUCXAaVbnRYOEhQ=s64",
      "userId": "04402438389940282602"
     },
     "user_tz": 300
    },
    "id": "8xbt7FYBoNg5",
    "outputId": "88e317fb-ce4b-4a5b-bb70-052c88e263aa"
   },
   "outputs": [
    {
     "data": {
      "text/plain": [
       "(131.51205364935595, -0.0010598294, 1105, 1.3335272, -3.954151e-05, 2.5503115e-05, -0.34372607, -3.954151e-05, 0.0, 0.10576324)"
      ]
     },
     "execution_count": 19,
     "metadata": {},
     "output_type": "execute_result"
    }
   ],
   "source": [
    "lc_data[0]"
   ]
  },
  {
   "cell_type": "markdown",
   "metadata": {},
   "source": [
    "Now, we will extract the .FITS_rec information into a table using the `astropy.table.Table` function"
   ]
  },
  {
   "cell_type": "code",
   "execution_count": 20,
   "metadata": {
    "colab": {
     "base_uri": "https://localhost:8080/"
    },
    "executionInfo": {
     "elapsed": 833,
     "status": "ok",
     "timestamp": 1614800140826,
     "user": {
      "displayName": "Eduard Alexis Larranaga",
      "photoUrl": "https://lh3.googleusercontent.com/a-/AOh14GgCVABzEgj-rCdyxWa29RnA0kIYUCXAaVbnRYOEhQ=s64",
      "userId": "04402438389940282602"
     },
     "user_tz": 300
    },
    "id": "uswgU9QZoNg5",
    "outputId": "d7fbee43-5a0c-4336-f6b1-90ef553137e5"
   },
   "outputs": [
    {
     "data": {
      "text/html": [
       "<i>Table length=71427</i>\n",
       "<table id=\"table5089325936\" class=\"table-striped table-bordered table-condensed\">\n",
       "<thead><tr><th>TIME</th><th>TIMECORR</th><th>CADENCENO</th><th>PHASE</th><th>LC_INIT</th><th>LC_INIT_ERR</th><th>LC_WHITE</th><th>LC_DETREND</th><th>MODEL_INIT</th><th>MODEL_WHITE</th></tr></thead>\n",
       "<thead><tr><th>float64</th><th>float32</th><th>int32</th><th>float32</th><th>float32</th><th>float32</th><th>float32</th><th>float32</th><th>float32</th><th>float32</th></tr></thead>\n",
       "<tr><td>131.51205364935595</td><td>-0.0010598294</td><td>1105</td><td>1.3335272</td><td>-3.954151e-05</td><td>2.5503115e-05</td><td>-0.34372607</td><td>-3.954151e-05</td><td>0.0</td><td>0.10576324</td></tr>\n",
       "<tr><td>131.53248808165517</td><td>-0.0010605616</td><td>1106</td><td>1.3539616</td><td>-2.2603195e-05</td><td>2.5496436e-05</td><td>0.029184762</td><td>-2.2603195e-05</td><td>0.0</td><td>0.20860007</td></tr>\n",
       "<tr><td>131.5529224139318</td><td>-0.0010612939</td><td>1107</td><td>1.374396</td><td>-3.5658915e-05</td><td>2.5480678e-05</td><td>-0.11320674</td><td>-3.5658915e-05</td><td>0.0</td><td>0.30092743</td></tr>\n",
       "<tr><td>131.57335664615675</td><td>-0.0010620261</td><td>1108</td><td>1.3948301</td><td>-3.3626442e-05</td><td>2.5509618e-05</td><td>-0.043413952</td><td>-3.3626442e-05</td><td>0.0</td><td>0.37470224</td></tr>\n",
       "<tr><td>131.59379097835335</td><td>-0.0010627584</td><td>1109</td><td>1.4152645</td><td>7.243876e-05</td><td>2.5514733e-05</td><td>1.6507578</td><td>7.243876e-05</td><td>0.0</td><td>0.42141774</td></tr>\n",
       "<tr><td>131.6142254105216</td><td>-0.0010634905</td><td>1110</td><td>1.4356989</td><td>-1.9167643e-05</td><td>2.551281e-05</td><td>0.19305673</td><td>-1.9167643e-05</td><td>0.0</td><td>0.43312293</td></tr>\n",
       "<tr><td>...</td><td>...</td><td>...</td><td>...</td><td>...</td><td>...</td><td>...</td><td>...</td><td>...</td><td>...</td></tr>\n",
       "<tr><td>1590.8786588268922</td><td>-0.00010830689</td><td>72525</td><td>1.167983</td><td>-1.6757078e-05</td><td>2.5910123e-05</td><td>-0.2840508</td><td>-1.6757078e-05</td><td>0.0</td><td>0.2229695</td></tr>\n",
       "<tr><td>1590.8990932329907</td><td>-0.00010901299</td><td>72526</td><td>1.1884174</td><td>-1.3110765e-05</td><td>2.59211e-05</td><td>-0.11579718</td><td>-1.3110765e-05</td><td>0.0</td><td>0.2549398</td></tr>\n",
       "<tr><td>1590.9195274391313</td><td>-0.000109719134</td><td>72527</td><td>1.2088517</td><td>-2.1601807e-05</td><td>2.5899915e-05</td><td>-0.24206355</td><td>-2.1601807e-05</td><td>0.0</td><td>0.28712964</td></tr>\n",
       "<tr><td>1590.939961845368</td><td>-0.00011042537</td><td>72528</td><td>1.2292861</td><td>-2.4176657e-06</td><td>2.5920064e-05</td><td>0.18408221</td><td>-2.4176657e-06</td><td>0.0</td><td>0.31875074</td></tr>\n",
       "<tr><td>1590.9603961516768</td><td>-0.000111131674</td><td>72529</td><td>1.2497203</td><td>-6.9596713e-06</td><td>2.5909627e-05</td><td>-0.29629543</td><td>-6.9596713e-06</td><td>0.0</td><td>0.34915897</td></tr>\n",
       "<tr><td>1590.980830358043</td><td>-0.000111838046</td><td>72530</td><td>1.2701546</td><td>6.3239095e-05</td><td>2.5841317e-05</td><td>0.6172695</td><td>6.3239095e-05</td><td>0.0</td><td>0.37782738</td></tr>\n",
       "<tr><td>1591.001264764498</td><td>-0.0001125445</td><td>72531</td><td>1.290589</td><td>0.00018839075</td><td>2.58255e-05</td><td>2.642254</td><td>0.00018839075</td><td>0.0</td><td>0.40432364</td></tr>\n",
       "</table>"
      ],
      "text/plain": [
       "<Table length=71427>\n",
       "       TIME            TIMECORR    CADENCENO ... MODEL_INIT MODEL_WHITE\n",
       "     float64           float32       int32   ...  float32     float32  \n",
       "------------------ --------------- --------- ... ---------- -----------\n",
       "131.51205364935595   -0.0010598294      1105 ...        0.0  0.10576324\n",
       "131.53248808165517   -0.0010605616      1106 ...        0.0  0.20860007\n",
       " 131.5529224139318   -0.0010612939      1107 ...        0.0  0.30092743\n",
       "131.57335664615675   -0.0010620261      1108 ...        0.0  0.37470224\n",
       "131.59379097835335   -0.0010627584      1109 ...        0.0  0.42141774\n",
       " 131.6142254105216   -0.0010634905      1110 ...        0.0  0.43312293\n",
       "               ...             ...       ... ...        ...         ...\n",
       "1590.8786588268922  -0.00010830689     72525 ...        0.0   0.2229695\n",
       "1590.8990932329907  -0.00010901299     72526 ...        0.0   0.2549398\n",
       "1590.9195274391313 -0.000109719134     72527 ...        0.0  0.28712964\n",
       " 1590.939961845368  -0.00011042537     72528 ...        0.0  0.31875074\n",
       "1590.9603961516768 -0.000111131674     72529 ...        0.0  0.34915897\n",
       " 1590.980830358043 -0.000111838046     72530 ...        0.0  0.37782738\n",
       " 1591.001264764498   -0.0001125445     72531 ...        0.0  0.40432364"
      ]
     },
     "execution_count": 20,
     "metadata": {},
     "output_type": "execute_result"
    }
   ],
   "source": [
    "from astropy.table import Table \n",
    "\n",
    "binarytable = Table(lc_data)\n",
    "binarytable"
   ]
  },
  {
   "cell_type": "markdown",
   "metadata": {},
   "source": [
    "It is possible to access each of the columns by using its name,"
   ]
  },
  {
   "cell_type": "code",
   "execution_count": 21,
   "metadata": {
    "colab": {
     "base_uri": "https://localhost:8080/"
    },
    "executionInfo": {
     "elapsed": 671,
     "status": "ok",
     "timestamp": 1614800171711,
     "user": {
      "displayName": "Eduard Alexis Larranaga",
      "photoUrl": "https://lh3.googleusercontent.com/a-/AOh14GgCVABzEgj-rCdyxWa29RnA0kIYUCXAaVbnRYOEhQ=s64",
      "userId": "04402438389940282602"
     },
     "user_tz": 300
    },
    "id": "_aNbp8JVoNg6",
    "outputId": "789903ba-7802-4946-9812-5c11a9457883"
   },
   "outputs": [
    {
     "data": {
      "text/html": [
       "&lt;Column name=&apos;TIME&apos; dtype=&apos;float64&apos; length=71427&gt;\n",
       "<table>\n",
       "<tr><td>131.51205364935595</td></tr>\n",
       "<tr><td>131.53248808165517</td></tr>\n",
       "<tr><td>131.5529224139318</td></tr>\n",
       "<tr><td>131.57335664615675</td></tr>\n",
       "<tr><td>131.59379097835335</td></tr>\n",
       "<tr><td>131.6142254105216</td></tr>\n",
       "<tr><td>131.63465964263742</td></tr>\n",
       "<tr><td>131.6550939747176</td></tr>\n",
       "<tr><td>131.67552840676944</td></tr>\n",
       "<tr><td>...</td></tr>\n",
       "<tr><td>1590.858224520889</td></tr>\n",
       "<tr><td>1590.8786588268922</td></tr>\n",
       "<tr><td>1590.8990932329907</td></tr>\n",
       "<tr><td>1590.9195274391313</td></tr>\n",
       "<tr><td>1590.939961845368</td></tr>\n",
       "<tr><td>1590.9603961516768</td></tr>\n",
       "<tr><td>1590.980830358043</td></tr>\n",
       "<tr><td>1591.001264764498</td></tr>\n",
       "</table>"
      ],
      "text/plain": [
       "<Column name='TIME' dtype='float64' length=71427>\n",
       "131.51205364935595\n",
       "131.53248808165517\n",
       " 131.5529224139318\n",
       "131.57335664615675\n",
       "131.59379097835335\n",
       " 131.6142254105216\n",
       "131.63465964263742\n",
       " 131.6550939747176\n",
       "131.67552840676944\n",
       "               ...\n",
       " 1590.858224520889\n",
       "1590.8786588268922\n",
       "1590.8990932329907\n",
       "1590.9195274391313\n",
       " 1590.939961845368\n",
       "1590.9603961516768\n",
       " 1590.980830358043\n",
       " 1591.001264764498"
      ]
     },
     "execution_count": 21,
     "metadata": {},
     "output_type": "execute_result"
    }
   ],
   "source": [
    "binarytable['TIME']"
   ]
  },
  {
   "cell_type": "markdown",
   "metadata": {
    "id": "1z8cDG6moNg6"
   },
   "source": [
    "### Visualizing the Image\n",
    "\n",
    "We will use the `matplotlib.pyplot` package to visualize the light-curve data. First we will extract the relevant features:\n",
    "\n",
    "**'TIME'**: : [float] The Barycentric Julian date of each cadence minus the offset 2454833. This value is available for all cadences in the file, even if no data is available at those times.\n",
    "\n",
    "**'LC INIT'** : [float] The initial light curve discussed in the introduction. This light curve has been quarter-stitched, harmonic-removed and has a mean of zero\n",
    "\n",
    "**LC WHITE** : [float] The whitened light curve that was searched by TPS to find this TCE. This is LC INIT after the whitening filter is applied.\n",
    " \n",
    "**MODEL INIT** : [float] The transit model calculated for the initial light curve.\n",
    " \n",
    "**MODEL WHITE** : [float] The whitened transit model calculated for the whitened light curve.\n",
    "\n",
    "\n",
    "---\n",
    "\n",
    "We will NOT calibrate the time in this notebook!! However, you can see this guide for a detailed description:\n",
    "\n",
    "https://spacetelescope.github.io/notebooks/notebooks/MAST/Kepler/Kepler_Lightcurve/kepler_lightcurve.html\n",
    "\n",
    "or the Kepler manual\n",
    "\n",
    "https://archive.stsci.edu/kepler/manuals/archive_manual.pdf\n"
   ]
  },
  {
   "cell_type": "code",
   "execution_count": 22,
   "metadata": {},
   "outputs": [],
   "source": [
    "time = binarytable['TIME']\n",
    "lc_init = binarytable['LC_INIT']\n",
    "lc_init_w = binarytable['LC_WHITE']\n",
    "lc_model = binarytable['MODEL_INIT']\n",
    "lc_model_w = binarytable['MODEL_WHITE']"
   ]
  },
  {
   "cell_type": "code",
   "execution_count": 23,
   "metadata": {},
   "outputs": [
    {
     "data": {
      "image/png": "[encoded data removed]",
      "text/plain": [
       "<Figure size 504x360 with 1 Axes>"
      ]
     },
     "metadata": {
      "needs_background": "light"
     },
     "output_type": "display_data"
    }
   ],
   "source": [
    "plt.figure(figsize=(7,5))\n",
    "plt.plot(time, lc_init)\n",
    "plt.title('Complete Kepler Light Curve')\n",
    "plt.xlabel('Time [days]')\n",
    "plt.ylabel('Flux')\n",
    "plt.show()"
   ]
  },
  {
   "cell_type": "markdown",
   "metadata": {},
   "source": [
    "We will restrict to the first 200 days to plot the transit."
   ]
  },
  {
   "cell_type": "code",
   "execution_count": 24,
   "metadata": {
    "colab": {
     "base_uri": "https://localhost:8080/",
     "height": 574
    },
    "executionInfo": {
     "elapsed": 2045,
     "status": "ok",
     "timestamp": 1614800356303,
     "user": {
      "displayName": "Eduard Alexis Larranaga",
      "photoUrl": "https://lh3.googleusercontent.com/a-/AOh14GgCVABzEgj-rCdyxWa29RnA0kIYUCXAaVbnRYOEhQ=s64",
      "userId": "04402438389940282602"
     },
     "user_tz": 300
    },
    "id": "aBPpN-B9oNg6",
    "outputId": "291e23e8-0f73-429f-bff4-73f37f60edab"
   },
   "outputs": [
    {
     "data": {
      "image/png": "[encoded data removed]",
      "text/plain": [
       "<Figure size 504x720 with 2 Axes>"
      ]
     },
     "metadata": {
      "needs_background": "light"
     },
     "output_type": "display_data"
    }
   ],
   "source": [
    "fig,ax = plt.subplots(2,1,figsize=(7,10))\n",
    "\n",
    "# Plot the time, uncorrected and corrected fluxes.\n",
    "ax[0].plot(time[0:500], lc_init[0:500], '-k') \n",
    "ax[0].set_title('Kepler Light Curve')\n",
    "ax[0].set_xlabel('Time [days]')\n",
    "ax[0].set_ylabel('Flux')\n",
    "\n",
    "ax[1].plot(time[0:500], lc_model[0:500], color='crimson') \n",
    "ax[1].set_title('Light Curve Model')\n",
    "\n",
    "ax[1].set_xlabel('Time [days]')\n",
    "ax[1].set_ylabel('Flux')\n",
    "plt.show()"
   ]
  },
  {
   "cell_type": "code",
   "execution_count": 25,
   "metadata": {},
   "outputs": [
    {
     "data": {
      "image/png": "[encoded data removed]",
      "text/plain": [
       "<Figure size 504x360 with 1 Axes>"
      ]
     },
     "metadata": {
      "needs_background": "light"
     },
     "output_type": "display_data"
    }
   ],
   "source": [
    "plt.figure(figsize=(7,5))\n",
    "plt.plot(time[0:500], lc_init[0:500], color='black') \n",
    "plt.plot(time[0:500], lc_model[0:500], color='crimson') \n",
    "plt.title('Kepler Light Curve + Model')\n",
    "plt.xlabel('Time [days]')\n",
    "plt.ylabel('Flux')\n",
    "plt.show()"
   ]
  },
  {
   "cell_type": "code",
   "execution_count": null,
   "metadata": {},
   "outputs": [],
   "source": []
  },
  {
   "cell_type": "code",
   "execution_count": null,
   "metadata": {},
   "outputs": [],
   "source": []
  }
 ],
 "metadata": {
  "colab": {
   "collapsed_sections": [],
   "name": "FITSImage01.ipynb",
   "provenance": []
  },
  "kernelspec": {
   "display_name": "Python 3 (ipykernel)",
   "language": "python",
   "name": "python3"
  },
  "language_info": {
   "codemirror_mode": {
    "name": "ipython",
    "version": 3
   },
   "file_extension": ".py",
   "mimetype": "text/x-python",
   "name": "python",
   "nbconvert_exporter": "python",
   "pygments_lexer": "ipython3",
   "version": "3.9.5"
  }
 },
 "nbformat": 4,
 "nbformat_minor": 1
}
