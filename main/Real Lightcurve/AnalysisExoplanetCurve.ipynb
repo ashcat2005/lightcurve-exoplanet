{
 "cells": [
  {
   "cell_type": "markdown",
   "metadata": {
    "id": "5soGuirloNgq"
   },
   "source": [
    "<img src=\"https://i.ibb.co/TcVMz44/logo.jpg\" alt=\"logo\" border=\"0\" width=200>\n",
    "\n",
    "# Computational Astrophysics 2021\n",
    "---\n",
    "## Eduard Larrañaga\n",
    "\n",
    "Observatorio Astronómico Nacional\\\n",
    "Facultad de Ciencias\\\n",
    "Universidad Nacional de Colombia\n",
    "\n",
    "---"
   ]
  },
  {
   "cell_type": "markdown",
   "metadata": {
    "id": "Ff4KTapaoNgx"
   },
   "source": [
    "## Modelling an Exoplanet Transit Lightcurve\n",
    "### About this notebook\n",
    "\n",
    "In this worksheet we use the `astropy` package to read a .fits file from the exo.MAST database. We adjust a theoretical model to fit the observational data.\n",
    "\n",
    "---"
   ]
  },
  {
   "cell_type": "markdown",
   "metadata": {
    "id": "geu4TFRioNgx"
   },
   "source": [
    "In this notebook we will use a .fits file from the exo.MAST database with the information of the lightcurve of the transit of an exoplanet. Go to the page \n",
    "\n",
    "[https://exo.mast.stsci.edu](https://exo.mast.stsci.edu)\n",
    "\n",
    "Click on the `View Table of Exoplanets` link and search for the object **HAT-P-7_b**. \n",
    "\n",
    "Click on the `Kepler Light Curve` link (Top right of the page) and download the data file. \n",
    "\n",
    "\n",
    "\n",
    "Now, we will use the `astropy` package to read the .fits file. For a detalied description of working with .fits files using `astropy`, go to\n",
    "\n",
    "http://docs.astropy.org/en/stable/io/fits/index.html\n"
   ]
  },
  {
   "cell_type": "markdown",
   "metadata": {},
   "source": [
    "---\n",
    "\n",
    "### Read the .fits file\n"
   ]
  },
  {
   "cell_type": "code",
   "execution_count": 30,
   "metadata": {
    "executionInfo": {
     "elapsed": 1538,
     "status": "ok",
     "timestamp": 1614799172877,
     "user": {
      "displayName": "Eduard Alexis Larranaga",
      "photoUrl": "https://lh3.googleusercontent.com/a-/AOh14GgCVABzEgj-rCdyxWa29RnA0kIYUCXAaVbnRYOEhQ=s64",
      "userId": "04402438389940282602"
     },
     "user_tz": 300
    },
    "id": "qw22p3z7oNgx"
   },
   "outputs": [],
   "source": [
    "from matplotlib import pyplot as plt\n",
    "from astropy.io import fits\n",
    "import numpy as np\n",
    "from numpy import pi, sqrt, sin, mean\n",
    "%matplotlib inline"
   ]
  },
  {
   "cell_type": "code",
   "execution_count": 2,
   "metadata": {
    "executionInfo": {
     "elapsed": 656,
     "status": "ok",
     "timestamp": 1614800018196,
     "user": {
      "displayName": "Eduard Alexis Larranaga",
      "photoUrl": "https://lh3.googleusercontent.com/a-/AOh14GgCVABzEgj-rCdyxWa29RnA0kIYUCXAaVbnRYOEhQ=s64",
      "userId": "04402438389940282602"
     },
     "user_tz": 300
    },
    "id": "Oyth0_iRoNg2"
   },
   "outputs": [],
   "source": [
    "hdul = fits.open('kplr010666592-20160128150956_dvt.fits')\n",
    "lc_data = hdul[1].data\n",
    "hdul.close()"
   ]
  },
  {
   "cell_type": "markdown",
   "metadata": {},
   "source": [
    "We extract the .FITS_rec information into a table using the `astropy.table.Table` function"
   ]
  },
  {
   "cell_type": "code",
   "execution_count": 3,
   "metadata": {
    "colab": {
     "base_uri": "https://localhost:8080/"
    },
    "executionInfo": {
     "elapsed": 833,
     "status": "ok",
     "timestamp": 1614800140826,
     "user": {
      "displayName": "Eduard Alexis Larranaga",
      "photoUrl": "https://lh3.googleusercontent.com/a-/AOh14GgCVABzEgj-rCdyxWa29RnA0kIYUCXAaVbnRYOEhQ=s64",
      "userId": "04402438389940282602"
     },
     "user_tz": 300
    },
    "id": "uswgU9QZoNg5",
    "outputId": "d7fbee43-5a0c-4336-f6b1-90ef553137e5"
   },
   "outputs": [
    {
     "data": {
      "text/html": [
       "<i>Table length=71427</i>\n",
       "<table id=\"table5080636000\" class=\"table-striped table-bordered table-condensed\">\n",
       "<thead><tr><th>TIME</th><th>TIMECORR</th><th>CADENCENO</th><th>PHASE</th><th>LC_INIT</th><th>LC_INIT_ERR</th><th>LC_WHITE</th><th>LC_DETREND</th><th>MODEL_INIT</th><th>MODEL_WHITE</th></tr></thead>\n",
       "<thead><tr><th>float64</th><th>float32</th><th>int32</th><th>float32</th><th>float32</th><th>float32</th><th>float32</th><th>float32</th><th>float32</th><th>float32</th></tr></thead>\n",
       "<tr><td>131.51205364935595</td><td>-0.0010598294</td><td>1105</td><td>1.3335272</td><td>-3.954151e-05</td><td>2.5503115e-05</td><td>-0.34372607</td><td>-3.954151e-05</td><td>0.0</td><td>0.10576324</td></tr>\n",
       "<tr><td>131.53248808165517</td><td>-0.0010605616</td><td>1106</td><td>1.3539616</td><td>-2.2603195e-05</td><td>2.5496436e-05</td><td>0.029184762</td><td>-2.2603195e-05</td><td>0.0</td><td>0.20860007</td></tr>\n",
       "<tr><td>131.5529224139318</td><td>-0.0010612939</td><td>1107</td><td>1.374396</td><td>-3.5658915e-05</td><td>2.5480678e-05</td><td>-0.11320674</td><td>-3.5658915e-05</td><td>0.0</td><td>0.30092743</td></tr>\n",
       "<tr><td>131.57335664615675</td><td>-0.0010620261</td><td>1108</td><td>1.3948301</td><td>-3.3626442e-05</td><td>2.5509618e-05</td><td>-0.043413952</td><td>-3.3626442e-05</td><td>0.0</td><td>0.37470224</td></tr>\n",
       "<tr><td>131.59379097835335</td><td>-0.0010627584</td><td>1109</td><td>1.4152645</td><td>7.243876e-05</td><td>2.5514733e-05</td><td>1.6507578</td><td>7.243876e-05</td><td>0.0</td><td>0.42141774</td></tr>\n",
       "<tr><td>131.6142254105216</td><td>-0.0010634905</td><td>1110</td><td>1.4356989</td><td>-1.9167643e-05</td><td>2.551281e-05</td><td>0.19305673</td><td>-1.9167643e-05</td><td>0.0</td><td>0.43312293</td></tr>\n",
       "<tr><td>...</td><td>...</td><td>...</td><td>...</td><td>...</td><td>...</td><td>...</td><td>...</td><td>...</td><td>...</td></tr>\n",
       "<tr><td>1590.8786588268922</td><td>-0.00010830689</td><td>72525</td><td>1.167983</td><td>-1.6757078e-05</td><td>2.5910123e-05</td><td>-0.2840508</td><td>-1.6757078e-05</td><td>0.0</td><td>0.2229695</td></tr>\n",
       "<tr><td>1590.8990932329907</td><td>-0.00010901299</td><td>72526</td><td>1.1884174</td><td>-1.3110765e-05</td><td>2.59211e-05</td><td>-0.11579718</td><td>-1.3110765e-05</td><td>0.0</td><td>0.2549398</td></tr>\n",
       "<tr><td>1590.9195274391313</td><td>-0.000109719134</td><td>72527</td><td>1.2088517</td><td>-2.1601807e-05</td><td>2.5899915e-05</td><td>-0.24206355</td><td>-2.1601807e-05</td><td>0.0</td><td>0.28712964</td></tr>\n",
       "<tr><td>1590.939961845368</td><td>-0.00011042537</td><td>72528</td><td>1.2292861</td><td>-2.4176657e-06</td><td>2.5920064e-05</td><td>0.18408221</td><td>-2.4176657e-06</td><td>0.0</td><td>0.31875074</td></tr>\n",
       "<tr><td>1590.9603961516768</td><td>-0.000111131674</td><td>72529</td><td>1.2497203</td><td>-6.9596713e-06</td><td>2.5909627e-05</td><td>-0.29629543</td><td>-6.9596713e-06</td><td>0.0</td><td>0.34915897</td></tr>\n",
       "<tr><td>1590.980830358043</td><td>-0.000111838046</td><td>72530</td><td>1.2701546</td><td>6.3239095e-05</td><td>2.5841317e-05</td><td>0.6172695</td><td>6.3239095e-05</td><td>0.0</td><td>0.37782738</td></tr>\n",
       "<tr><td>1591.001264764498</td><td>-0.0001125445</td><td>72531</td><td>1.290589</td><td>0.00018839075</td><td>2.58255e-05</td><td>2.642254</td><td>0.00018839075</td><td>0.0</td><td>0.40432364</td></tr>\n",
       "</table>"
      ],
      "text/plain": [
       "<Table length=71427>\n",
       "       TIME            TIMECORR    CADENCENO ... MODEL_INIT MODEL_WHITE\n",
       "     float64           float32       int32   ...  float32     float32  \n",
       "------------------ --------------- --------- ... ---------- -----------\n",
       "131.51205364935595   -0.0010598294      1105 ...        0.0  0.10576324\n",
       "131.53248808165517   -0.0010605616      1106 ...        0.0  0.20860007\n",
       " 131.5529224139318   -0.0010612939      1107 ...        0.0  0.30092743\n",
       "131.57335664615675   -0.0010620261      1108 ...        0.0  0.37470224\n",
       "131.59379097835335   -0.0010627584      1109 ...        0.0  0.42141774\n",
       " 131.6142254105216   -0.0010634905      1110 ...        0.0  0.43312293\n",
       "               ...             ...       ... ...        ...         ...\n",
       "1590.8786588268922  -0.00010830689     72525 ...        0.0   0.2229695\n",
       "1590.8990932329907  -0.00010901299     72526 ...        0.0   0.2549398\n",
       "1590.9195274391313 -0.000109719134     72527 ...        0.0  0.28712964\n",
       " 1590.939961845368  -0.00011042537     72528 ...        0.0  0.31875074\n",
       "1590.9603961516768 -0.000111131674     72529 ...        0.0  0.34915897\n",
       " 1590.980830358043 -0.000111838046     72530 ...        0.0  0.37782738\n",
       " 1591.001264764498   -0.0001125445     72531 ...        0.0  0.40432364"
      ]
     },
     "execution_count": 3,
     "metadata": {},
     "output_type": "execute_result"
    }
   ],
   "source": [
    "from astropy.table import Table \n",
    "\n",
    "binarytable = Table(lc_data)\n",
    "binarytable"
   ]
  },
  {
   "cell_type": "markdown",
   "metadata": {
    "id": "1z8cDG6moNg6"
   },
   "source": [
    "### Visualizing the Image\n",
    "\n",
    "We will use the `matplotlib.pyplot` package to visualize the light-curve data. First we will extract the relevant features:\n",
    "\n",
    "**'TIME'**: : [float] The Barycentric Julian date of each cadence minus the offset 2454833. This value is available for all cadences in the file, even if no data is available at those times.\n",
    "\n",
    "**'LC INIT'** : [float] The initial light curve discussed in the introduction. This light curve has been quarter-stitched, harmonic-removed and has a mean of zero\n",
    "\n",
    "**LC WHITE** : [float] The whitened light curve that was searched by TPS to find this TCE. This is LC INIT after the whitening filter is applied.\n",
    " \n",
    "**MODEL INIT** : [float] The transit model calculated for the initial light curve.\n",
    " \n",
    "**MODEL WHITE** : [float] The whitened transit model calculated for the whitened light curve.\n",
    "\n",
    "\n",
    "---\n",
    "\n",
    "We will NOT calibrate the time in this notebook!! However, you can see this guide for a detailed description:\n",
    "\n",
    "https://spacetelescope.github.io/notebooks/notebooks/MAST/Kepler/Kepler_Lightcurve/kepler_lightcurve.html\n",
    "\n",
    "or the Kepler manual\n",
    "\n",
    "https://archive.stsci.edu/kepler/manuals/archive_manual.pdf\n"
   ]
  },
  {
   "cell_type": "code",
   "execution_count": 4,
   "metadata": {},
   "outputs": [
    {
     "data": {
      "text/plain": [
       "71427"
      ]
     },
     "execution_count": 4,
     "metadata": {},
     "output_type": "execute_result"
    }
   ],
   "source": [
    "time = binarytable['TIME']\n",
    "lc_init = binarytable['LC_INIT']\n",
    "lc_model = binarytable['MODEL_INIT']\n",
    "len(lc_init)"
   ]
  },
  {
   "cell_type": "markdown",
   "metadata": {},
   "source": [
    "We will restrict to the first 200 days to plot the transit. Note that there is one transit in each 100 points interval."
   ]
  },
  {
   "cell_type": "code",
   "execution_count": 6,
   "metadata": {
    "colab": {
     "base_uri": "https://localhost:8080/",
     "height": 574
    },
    "executionInfo": {
     "elapsed": 2045,
     "status": "ok",
     "timestamp": 1614800356303,
     "user": {
      "displayName": "Eduard Alexis Larranaga",
      "photoUrl": "https://lh3.googleusercontent.com/a-/AOh14GgCVABzEgj-rCdyxWa29RnA0kIYUCXAaVbnRYOEhQ=s64",
      "userId": "04402438389940282602"
     },
     "user_tz": 300
    },
    "id": "aBPpN-B9oNg6",
    "outputId": "291e23e8-0f73-429f-bff4-73f37f60edab"
   },
   "outputs": [
    {
     "data": {
      "image/png": "[encoded data removed]",
      "text/plain": [
       "<Figure size 504x720 with 2 Axes>"
      ]
     },
     "metadata": {
      "needs_background": "light"
     },
     "output_type": "display_data"
    }
   ],
   "source": [
    "fig,ax = plt.subplots(2,1,figsize=(7,10))\n",
    "\n",
    "# Plot the time, uncorrected and corrected fluxes.\n",
    "ax[0].plot(time[0:500], lc_init[0:500], '-k') \n",
    "ax[0].set_title('Kepler Light Curve')\n",
    "ax[0].set_xlabel('Time [days]')\n",
    "ax[0].set_ylabel('Flux')\n",
    "\n",
    "ax[1].plot(time[0:500], lc_model[0:500], color='crimson') \n",
    "ax[1].set_title('Light Curve Model')\n",
    "\n",
    "ax[1].set_xlabel('Time [days]')\n",
    "ax[1].set_ylabel('Flux')\n",
    "plt.show()"
   ]
  },
  {
   "cell_type": "code",
   "execution_count": 7,
   "metadata": {},
   "outputs": [
    {
     "data": {
      "image/png": "[encoded data removed]",
      "text/plain": [
       "<Figure size 504x360 with 1 Axes>"
      ]
     },
     "metadata": {
      "needs_background": "light"
     },
     "output_type": "display_data"
    }
   ],
   "source": [
    "plt.figure(figsize=(7,5))\n",
    "plt.plot(time[0:500], lc_init[0:500], color='black') \n",
    "plt.plot(time[0:500], lc_model[0:500], color='crimson') \n",
    "plt.title('Kepler Light Curve + Model')\n",
    "plt.xlabel('Time [days]')\n",
    "plt.ylabel('Flux')\n",
    "plt.show()"
   ]
  },
  {
   "cell_type": "markdown",
   "metadata": {},
   "source": [
    "---\n",
    "## Physical Properties of the Exoplanet-Star System\n",
    "\n",
    "The objective now is to find the physical properties of the system, from the observational points. All the resuklts are based on the paper by [[S. Seager and G. Mallén-Ornelas, 2002]](https://arxiv.org/abs/astro-ph/0206228v1)\n",
    "\n",
    "|Parameter | value|\n",
    "|---|---|\n",
    "|Radius ratio | $\\frac{R_p}{R_*}$  |\n",
    "|Impact parameter| $b$|\n",
    "|Linear limb darkening parameter| $\\gamma_1$|\n",
    "|Quadratic limb darkening parameter| $\\gamma_2$|\n",
    "|Semi-major axis|$\\frac{a}{R_*}$|\n",
    "|Orbital period|T|\n",
    "|Orbital phase|$\\delta$|\n",
    "\n",
    "The planet is not moving on the equatorial plane of the star (as seen by the observer), and therefore, we have included the impact parameter $b$ and define the coordinate describing the motion as\n",
    "\n",
    "\\begin{equation}\n",
    "z = \\sqrt{x^2 + b^2},\n",
    "\\end{equation}\n",
    "\n",
    "where $x$ represents the the equatorial plane coordinate depending on time as\n",
    "\n",
    "\\begin{equation}\n",
    "x(t) =  a \\cos \\left[ \\omega (t - \\delta) + \\frac{\\pi}{2} \\right]\n",
    "\\end{equation}\n",
    "\n",
    "and \n",
    "\n",
    "\\begin{equation}\n",
    "\\omega = \\frac{2\\pi}{T}.\n",
    "\\end{equation}\n",
    "\n",
    "**In practice, this definition will give twice the transits becuase the motion of the exoplanet behind he star will be conisdered also as a transit!**.\n",
    "\n",
    "\n",
    "### Finding the Period of the Motion\n",
    "\n",
    "Consider the first two transits to illustrate how to obtain the period:"
   ]
  },
  {
   "cell_type": "code",
   "execution_count": 8,
   "metadata": {},
   "outputs": [
    {
     "data": {
      "image/png": "[encoded data removed]",
      "text/plain": [
       "<Figure size 504x360 with 1 Axes>"
      ]
     },
     "metadata": {
      "needs_background": "light"
     },
     "output_type": "display_data"
    }
   ],
   "source": [
    "time_slice = time[0:200]\n",
    "lc_slice = lc_init[0:200]\n",
    "plt.figure(figsize=(7,5))\n",
    "plt.plot(time_slice, lc_slice, color='black') \n",
    "plt.title('Kepler Light Curve + Model')\n",
    "plt.xlabel('Time [days]')\n",
    "plt.ylabel('Flux')\n",
    "plt.show()"
   ]
  },
  {
   "cell_type": "markdown",
   "metadata": {},
   "source": [
    "Using the function `numpy.nanmin()`, we find each of the minima (This function doesn't considers the nan entries)"
   ]
  },
  {
   "cell_type": "code",
   "execution_count": 9,
   "metadata": {},
   "outputs": [
    {
     "data": {
      "text/plain": [
       "-0.0066898437"
      ]
     },
     "execution_count": 9,
     "metadata": {},
     "output_type": "execute_result"
    }
   ],
   "source": [
    "np.nanmin(lc_slice[0:100])"
   ]
  },
  {
   "cell_type": "code",
   "execution_count": 10,
   "metadata": {
    "scrolled": true
   },
   "outputs": [
    {
     "data": {
      "text/plain": [
       "-0.0066959118"
      ]
     },
     "execution_count": 10,
     "metadata": {},
     "output_type": "execute_result"
    }
   ],
   "source": [
    "np.nanmin(lc_slice[100:200]) "
   ]
  },
  {
   "cell_type": "markdown",
   "metadata": {},
   "source": [
    "Now, we use `numpy.where()` to find the index of these points, "
   ]
  },
  {
   "cell_type": "code",
   "execution_count": 11,
   "metadata": {
    "scrolled": false
   },
   "outputs": [
    {
     "data": {
      "text/plain": [
       "43"
      ]
     },
     "execution_count": 11,
     "metadata": {},
     "output_type": "execute_result"
    }
   ],
   "source": [
    "min1_idx = np.where(lc_slice == np.nanmin(lc_slice[0:100]))[0][0]\n",
    "min1_idx"
   ]
  },
  {
   "cell_type": "code",
   "execution_count": 12,
   "metadata": {},
   "outputs": [
    {
     "data": {
      "text/plain": [
       "150"
      ]
     },
     "execution_count": 12,
     "metadata": {},
     "output_type": "execute_result"
    }
   ],
   "source": [
    "min2_idx = np.where(lc_slice == np.nanmin(lc_slice[100:200]))[0][0]\n",
    "min2_idx"
   ]
  },
  {
   "cell_type": "markdown",
   "metadata": {},
   "source": [
    "The period corresponds to the time difference between these two points,"
   ]
  },
  {
   "cell_type": "code",
   "execution_count": 13,
   "metadata": {},
   "outputs": [
    {
     "data": {
      "text/plain": [
       "2.186472837878682"
      ]
     },
     "execution_count": 13,
     "metadata": {},
     "output_type": "execute_result"
    }
   ],
   "source": [
    "Period = time_slice[min2_idx] - time_slice[min1_idx]\n",
    "Period"
   ]
  },
  {
   "cell_type": "markdown",
   "metadata": {},
   "source": [
    "To obtain a better value for the period, we implement a loop to calculate this time interval between each pair of transits. Then we take the arithmetic mean of the obtained values."
   ]
  },
  {
   "cell_type": "code",
   "execution_count": 17,
   "metadata": {
    "scrolled": true
   },
   "outputs": [
    {
     "name": "stdout",
     "output_type": "stream",
     "text": [
      "\n",
      "We obtain 558 period values and the mean value is T = 2.204 days.\n",
      "\n"
     ]
    }
   ],
   "source": [
    "import warnings\n",
    "warnings.filterwarnings('ignore')\n",
    "\n",
    "Period_values = []\n",
    "N = 0 # Counts the number of transits\n",
    "transit_idx = [] # List with the indices of the transit points\n",
    "\n",
    "for i in range(1,700):\n",
    "    min1 = np.nanmin(lc_init[100*(i-1):100*i])\n",
    "    min2 = np.nanmin(lc_init[100*(i):100*(i+1)])\n",
    "    # We need to get rid of possible measurement errors\n",
    "    if abs(min1)>0.001 and abs(min2)>0.001:\n",
    "        P = time[np.where(lc_init == min2)[0][0]] - time[np.where(lc_init == min1)[0][0]]\n",
    "        if P>1.:\n",
    "            transit_idx.append(np.where(lc_init == min1)[0][0])\n",
    "            Period_values.append(P)\n",
    "            N += 1\n",
    "\n",
    "Period = mean(Period_values)\n",
    "\n",
    "print(f'\\nWe obtain {N:.0f} period values and the mean value is T = {Period:.3f} days.\\n')            \n"
   ]
  },
  {
   "cell_type": "markdown",
   "metadata": {},
   "source": [
    "### Finding the Phase of the Signal\n",
    "\n",
    "We will define the phase of the observed signal, $\\delta$, as the time of the first transit:"
   ]
  },
  {
   "cell_type": "code",
   "execution_count": 18,
   "metadata": {},
   "outputs": [
    {
     "name": "stdout",
     "output_type": "stream",
     "text": [
      "\n",
      "The fase of the signal is delta = 132.3907\n",
      "\n"
     ]
    }
   ],
   "source": [
    "delta = time[transit_idx[0]]\n",
    "print(f'\\nThe fase of the signal is delta = {delta:.4f}\\n')"
   ]
  },
  {
   "cell_type": "markdown",
   "metadata": {},
   "source": [
    "### Finding the Transit Depth\n",
    "\n",
    "The transit depth $\\Delta F$ is defined in [[S. Seager and G. Mallén-Ornelas, 2002]](https://arxiv.org/abs/astro-ph/0206228v1) as \n",
    "\n",
    "\\begin{equation}\n",
    "\\Delta F = \\frac{F_{\\text{no transit}}- F_{\\text{transit}}}{F_{\\text{no transit}}}\n",
    "\\end{equation}\n",
    "\n",
    "For this dataset, we normalize the 'no-transit' flux to one and then,  $\\Delta F$ is just the depth at each transit. Since we already have the indices identifying each transit, we take an arithmetic mean of the flux depth values:"
   ]
  },
  {
   "cell_type": "code",
   "execution_count": 19,
   "metadata": {},
   "outputs": [
    {
     "data": {
      "text/plain": [
       "0.006641408"
      ]
     },
     "execution_count": 19,
     "metadata": {},
     "output_type": "execute_result"
    }
   ],
   "source": [
    "flux_sum = []\n",
    "for i in transit_idx:\n",
    "    flux_sum.append(abs(lc_init[i]))\n",
    "        \n",
    "DeltaF = mean(flux_sum)\n",
    "DeltaF"
   ]
  },
  {
   "cell_type": "markdown",
   "metadata": {},
   "source": [
    "According to [[S. Seager and G. Mallén-Ornelas, 2002]](https://arxiv.org/abs/astro-ph/0206228v1), the flux depth and the ratio of the radius of planet and star are related by\n",
    "\n",
    "\\begin{equation}\n",
    "\\Delta F = \\left(\\frac{R_p}{R_*} \\right)^2 = p^2\n",
    "\\end{equation}\n",
    "\n",
    "Therefore, we obtain"
   ]
  },
  {
   "cell_type": "code",
   "execution_count": 21,
   "metadata": {},
   "outputs": [
    {
     "name": "stdout",
     "output_type": "stream",
     "text": [
      "The ratio of planet radius to star radius is p = 0.081\n"
     ]
    }
   ],
   "source": [
    "p = sqrt(DeltaF)\n",
    "print(f'The ratio of planet radius to star radius is p = {p:.3f}')"
   ]
  },
  {
   "cell_type": "markdown",
   "metadata": {},
   "source": [
    "## Total Transit Duration and Duration of the Transit Completely Inside\n",
    "\n",
    "Following the definitions of [[S. Seager and G. Mallén-Ornelas, 2002]](https://arxiv.org/abs/astro-ph/0206228v1), we will calculate\n",
    "\n",
    "- $t_T$ : The total transit duration (first to fourth contact)\n",
    "- $t_f$ : The duration  of the transit completely inside ingress and egress (second to third contact) \n",
    "\n",
    "Look at the first transit in the data set:"
   ]
  },
  {
   "cell_type": "code",
   "execution_count": 22,
   "metadata": {},
   "outputs": [
    {
     "data": {
      "image/png": "[encoded data removed]",
      "text/plain": [
       "<Figure size 504x360 with 1 Axes>"
      ]
     },
     "metadata": {
      "needs_background": "light"
     },
     "output_type": "display_data"
    }
   ],
   "source": [
    "time_slice = time[30:55]\n",
    "lc_slice = lc_init[30:55]\n",
    "plt.figure(figsize=(7,5))\n",
    "plt.plot(time_slice, lc_slice, color='black') \n",
    "plt.title('Kepler Light Curve + Model')\n",
    "plt.xlabel('Time [days]')\n",
    "plt.ylabel('Flux')\n",
    "plt.show()"
   ]
  },
  {
   "cell_type": "markdown",
   "metadata": {},
   "source": [
    "We find $t_f$ beginning at the minimum and looking for the boundary of bottom flat part of the curve."
   ]
  },
  {
   "cell_type": "code",
   "execution_count": 23,
   "metadata": {},
   "outputs": [
    {
     "data": {
      "text/plain": [
       "0.10217155349528184"
      ]
     },
     "execution_count": 23,
     "metadata": {},
     "output_type": "execute_result"
    }
   ],
   "source": [
    "j = 0\n",
    "# Find the in time\n",
    "while abs(lc_init[transit_idx[0]-j] - lc_init[transit_idx[0]])< 0.0005:\n",
    "    j+=1\n",
    "t_f_in = time[transit_idx[0]-j]\n",
    "\n",
    "k = 0\n",
    "# Find the out time\n",
    "while abs(lc_init[transit_idx[0]+k] - lc_init[transit_idx[0]])< 0.0005:\n",
    "    k+=1\n",
    "t_f_out = time[transit_idx[0]+k]\n",
    "\n",
    "t_f = t_f_out - t_f_in\n",
    "t_f"
   ]
  },
  {
   "cell_type": "code",
   "execution_count": 24,
   "metadata": {},
   "outputs": [
    {
     "data": {
      "image/png": "[encoded data removed]",
      "text/plain": [
       "<Figure size 504x360 with 1 Axes>"
      ]
     },
     "metadata": {
      "needs_background": "light"
     },
     "output_type": "display_data"
    }
   ],
   "source": [
    "time_slice = time[30:55]\n",
    "lc_slice = lc_init[30:55]\n",
    "plt.figure(figsize=(7,5))\n",
    "plt.plot(time_slice, lc_slice, color='black') \n",
    "plt.plot([time[transit_idx[0]-j],time[transit_idx[0]+k]], [lc_init[transit_idx[0]-j],lc_init[transit_idx[0]+k]],'r', marker='X')\n",
    "plt.title('Kepler Light Curve + Model')\n",
    "plt.xlabel('Time [days]')\n",
    "plt.ylabel('Flux')\n",
    "plt.show()"
   ]
  },
  {
   "cell_type": "markdown",
   "metadata": {},
   "source": [
    "Now, we do the same for all transit points and take the average,"
   ]
  },
  {
   "cell_type": "code",
   "execution_count": 25,
   "metadata": {},
   "outputs": [
    {
     "name": "stdout",
     "output_type": "stream",
     "text": [
      "The mean value of t_f is 0.1024\n"
     ]
    }
   ],
   "source": [
    "t_f_values = []\n",
    "for i in range(N):\n",
    "    j = 0\n",
    "    # Find the in time\n",
    "    while abs(lc_init[transit_idx[i]-j] - lc_init[transit_idx[i]])< 0.0005:\n",
    "        j+=1\n",
    "    t_f_in = time[transit_idx[i]-j]\n",
    "\n",
    "    # Find the out time\n",
    "    j = 0\n",
    "    while abs(lc_init[transit_idx[i]+j] - lc_init[transit_idx[i]])< 0.0005:\n",
    "        j+=1\n",
    "    t_f_out = time[transit_idx[i]+j]\n",
    "    \n",
    "    t_f_values.append(t_f_out - t_f_in)\n",
    "\n",
    "t_f = mean(t_f_values)\n",
    "print(f'The mean value of t_f is {t_f:.4f}')"
   ]
  },
  {
   "cell_type": "markdown",
   "metadata": {},
   "source": [
    "Similarly, we can find the value of the time $t_T$ by looking for the boundary of the upper flat part, beginning at each transit point."
   ]
  },
  {
   "cell_type": "code",
   "execution_count": 26,
   "metadata": {},
   "outputs": [
    {
     "data": {
      "text/plain": [
       "0.18390907631692244"
      ]
     },
     "execution_count": 26,
     "metadata": {},
     "output_type": "execute_result"
    }
   ],
   "source": [
    "j = 0\n",
    "# Find the in time\n",
    "while abs(lc_init[transit_idx[0]-j] - lc_init[transit_idx[0]])< abs(lc_init[transit_idx[0]]*0.9):\n",
    "    j+=1\n",
    "t_T_in = time[transit_idx[0]-j]\n",
    "\n",
    "k = 0\n",
    "# Find the out time\n",
    "while abs(lc_init[transit_idx[0]+k] - lc_init[transit_idx[0]])< abs(lc_init[transit_idx[0]]*0.9):\n",
    "    k+=1\n",
    "t_T_out = time[transit_idx[0]+k]\n",
    "\n",
    "t_T = t_T_out - t_T_in\n",
    "t_T"
   ]
  },
  {
   "cell_type": "code",
   "execution_count": 27,
   "metadata": {},
   "outputs": [
    {
     "data": {
      "image/png": "[encoded data removed]",
      "text/plain": [
       "<Figure size 504x360 with 1 Axes>"
      ]
     },
     "metadata": {
      "needs_background": "light"
     },
     "output_type": "display_data"
    }
   ],
   "source": [
    "time_slice = time[30:55]\n",
    "lc_slice = lc_init[30:55]\n",
    "plt.figure(figsize=(7,5))\n",
    "plt.plot(time_slice, lc_slice, color='black') \n",
    "plt.plot([time[transit_idx[0]-j],time[transit_idx[0]+k]], [lc_init[transit_idx[0]-j],lc_init[transit_idx[0]+k]],'r', marker='X')\n",
    "plt.title('Kepler Light Curve + Model')\n",
    "plt.xlabel('Time [days]')\n",
    "plt.ylabel('Flux')\n",
    "plt.show()"
   ]
  },
  {
   "cell_type": "code",
   "execution_count": 28,
   "metadata": {},
   "outputs": [
    {
     "name": "stdout",
     "output_type": "stream",
     "text": [
      "The mean value of t_T is 0.1839\n"
     ]
    }
   ],
   "source": [
    "t_T_values = []\n",
    "for i in range(N):\n",
    "    j = 0\n",
    "    # Find the in_time\n",
    "    while abs(lc_init[transit_idx[0]-j] - lc_init[transit_idx[0]])< abs(lc_init[transit_idx[0]]*0.9):\n",
    "        j+=1\n",
    "    t_T_in = time[transit_idx[i]-j]\n",
    "\n",
    "    # Find the out_time\n",
    "    j = 0\n",
    "    while abs(lc_init[transit_idx[0]+j] - lc_init[transit_idx[0]])< abs(lc_init[transit_idx[0]]*0.9):\n",
    "        j+=1\n",
    "    t_T_out = time[transit_idx[i]+j]\n",
    "\n",
    "    t_T_values.append(t_T_out - t_T_in)\n",
    "\n",
    "t_T = mean(t_T_values)\n",
    "print(f'The mean value of t_T is {t_T:.4f}')"
   ]
  },
  {
   "cell_type": "markdown",
   "metadata": {},
   "source": [
    "## The impact parameter and the semi-amjor axis\n",
    "\n",
    "We use equations (7) and (8) of  [[S. Seager and G. Mallén-Ornelas, 2002]](https://arxiv.org/abs/astro-ph/0206228v1) to estimate the values of the impact parameter $b$ and the semi-major axis $a$,"
   ]
  },
  {
   "cell_type": "code",
   "execution_count": 31,
   "metadata": {},
   "outputs": [
    {
     "data": {
      "text/plain": [
       "0.8329481379172833"
      ]
     },
     "execution_count": 31,
     "metadata": {},
     "output_type": "execute_result"
    }
   ],
   "source": [
    "sin2_tF = (sin(t_f*pi/Period))**2\n",
    "sin2_tT = (sin(t_T*pi/Period))**2\n",
    "sin2_ratio = sin2_tF/sin2_tT\n",
    "\n",
    "b = sqrt(((1-p)**2 - sin2_ratio*(1+p)**2 )/(1 - sin2_ratio))\n",
    "b"
   ]
  },
  {
   "cell_type": "code",
   "execution_count": 32,
   "metadata": {},
   "outputs": [
    {
     "data": {
      "text/plain": [
       "2.789476885770167"
      ]
     },
     "execution_count": 32,
     "metadata": {},
     "output_type": "execute_result"
    }
   ],
   "source": [
    "a = sqrt((1 + p)**2 - (b**2)*(1 - sin2_tT))/sqrt(sin2_tT)\n",
    "a"
   ]
  },
  {
   "cell_type": "markdown",
   "metadata": {},
   "source": [
    "---\n",
    "### Comparison of Results\n",
    "\n",
    "\n",
    "|Parameter | value | obtained | reported in database |\n",
    "|---|---|---|---|\n",
    "|Radius ratio | $\\frac{R_p}{R_*}$  | 0.081 |0.078|\n",
    "|Impact parameter| $b$| 0.8329 | 0.5 |\n",
    "|Linear limb darkening parameter| $\\gamma_1$| NA | NR |\n",
    "|Quadratic limb darkening parameter| $\\gamma_2$| NA | NR |\n",
    "|Semi-major axis|$\\frac{a}{R_*}$| 2.7894 | 3.952 ( a =0.037 au = 7.956 $R_{\\odot}$)|\n",
    "|Orbital period|T| 2.204 days | 2.20474 days |\n",
    "|Orbital phase|$\\delta$| 132.3907 days | NR |"
   ]
  },
  {
   "cell_type": "code",
   "execution_count": 33,
   "metadata": {},
   "outputs": [],
   "source": [
    "# Parameters for the model\n",
    "p = 0.081 #radius ratio\n",
    "b = 0.832 #impact parameter\n",
    "gamma1 = 0.3 #linear limb darkening \n",
    "gamma2 = 0.3 #quadratic limb darkening\n",
    "a = 2.789  #normalized semi-major axis (normalized with the star radius)\n",
    "T = 2.204 #orbital period\n",
    "delta = 132.3907 #orbital phase\n",
    "omega = 2*np.pi/T #angular velocity"
   ]
  },
  {
   "cell_type": "code",
   "execution_count": 37,
   "metadata": {},
   "outputs": [
    {
     "data": {
      "image/png": "[encoded data removed]",
      "text/plain": [
       "<Figure size 504x360 with 1 Axes>"
      ]
     },
     "metadata": {
      "needs_background": "light"
     },
     "output_type": "display_data"
    },
    {
     "name": "stdout",
     "output_type": "stream",
     "text": [
      "tiempo de cómputo: -1.987500013456156e-05\n"
     ]
    }
   ],
   "source": [
    "from scipy.misc import derivative\n",
    "import scipy.integrate as integrate\n",
    "import numpy as np\n",
    "import matplotlib.pyplot as plt\n",
    "import timeit\n",
    "\n",
    "def L(r, P, Z): #it is already multiplied by r² as it is in the derivate into the integral\n",
    "  '''\n",
    "  Obstruction function\n",
    "  '''\n",
    "  p = P/r\n",
    "  z0 = Z/r\n",
    "  \n",
    "  # Reflects the information w.r.t. the y axis  \n",
    "  if z0>0:\n",
    "    z = z0\n",
    "  if z0<0:\n",
    "    z = -z0\n",
    "    \n",
    "  if z>1+p:\n",
    "    return 0.\n",
    "  elif (abs(1-p)<z and z<=1+p):\n",
    "    k0 = np.arccos((p**2 + z**2 -1)/(2*p*z))\n",
    "    k1 = np.arccos((1-p**2 + z**2)/(2*z))\n",
    "    L0 = k0*p**2\n",
    "    L2 = np.sqrt((4*z**2- (1+z**2-p**2)**2)/4) \n",
    "    return (L0 + k1 - L2)*r**2/np.pi\n",
    "  elif (z<=1-p):\n",
    "    return p**2*r**2\n",
    "  elif z<= p-1: \n",
    "    return 1.*r**2\n",
    "\n",
    "\n",
    "def I_function(r):\n",
    "  '''\n",
    "  Quadratic limb-darkening function\n",
    "  '''\n",
    "  mu = np.sqrt(1-r**2) \n",
    "  return 1. - gamma1*(1-mu) - gamma2*(1-mu)**2\n",
    "\n",
    "\n",
    "def integrand_1(r, p, z):\n",
    "  '''\n",
    "  Integrand in the numerator\n",
    "  '''\n",
    "  T1 = derivative(L, r, dx=1e-6, args=(p,z))\n",
    "  T2 = I_function(r)\n",
    "  return T1*T2\n",
    "\n",
    "\n",
    "def integrand_2(r):\n",
    "  '''\n",
    "  Integrand in the denominator\n",
    "  '''\n",
    "  return I_function(r)*2*r\n",
    "\n",
    "\n",
    "\n",
    "\n",
    "\n",
    "# Grid definition\n",
    "N = 1000\n",
    "t = np.linspace(131.5,135.5,N)\n",
    "x = a*np.cos(omega*(t-delta)+np.pi/2)\n",
    "\n",
    "z_range = np.sqrt(x**2 + b**2)\n",
    "\n",
    "\n",
    "# Flux\n",
    "F = np.zeros(N)\n",
    "\n",
    "\n",
    "# Main Loop to calculate the Flux\n",
    "\n",
    "for i in range(N):\n",
    "    Integral_1 = integrate.quad(integrand_1, 0.0001, 1., args=(p,z_range[i]))[0]\n",
    "    Integral_2 = integrate.quad(integrand_2, 0.0001, 1.)[0]\n",
    "    F[i] = 0. - Integral_1/Integral_2\n",
    "\n",
    "\n",
    "start = timeit.timeit()\n",
    "# Plot the Flux as function of time\n",
    "plt.figure(figsize=(7,5))\n",
    "plt.plot(t, F,color='crimson', label=f' Model with b = {b:.1f}, a = {a:.1f}')\n",
    "plt.hlines(0., t[0], t[-1],linestyle='dashed', alpha=0.3)\n",
    "plt.plot(time[0:200], lc_init[0:200], color='black') \n",
    "plt.xlabel(r'$t$')\n",
    "plt.ylabel(r'$F(p,z)$')\n",
    "plt.title('Exoplanet Transit Lightcurve')\n",
    "plt.legend()\n",
    "plt.show()\n",
    "\n",
    "end = timeit.timeit()\n",
    "print(f'tiempo de cómputo: {end - start}')"
   ]
  },
  {
   "cell_type": "code",
   "execution_count": null,
   "metadata": {},
   "outputs": [],
   "source": []
  }
 ],
 "metadata": {
  "colab": {
   "collapsed_sections": [],
   "name": "FITSImage01.ipynb",
   "provenance": []
  },
  "kernelspec": {
   "display_name": "Python 3 (ipykernel)",
   "language": "python",
   "name": "python3"
  },
  "language_info": {
   "codemirror_mode": {
    "name": "ipython",
    "version": 3
   },
   "file_extension": ".py",
   "mimetype": "text/x-python",
   "name": "python",
   "nbconvert_exporter": "python",
   "pygments_lexer": "ipython3",
   "version": "3.9.5"
  }
 },
 "nbformat": 4,
 "nbformat_minor": 1
}
