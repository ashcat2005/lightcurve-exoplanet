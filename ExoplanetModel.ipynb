{
 "cells": [
  {
   "cell_type": "markdown",
   "metadata": {
    "colab_type": "text",
    "id": "view-in-github"
   },
   "source": [
    "<a href=\"https://colab.research.google.com/github/ashcat2005/lightcurve-exoplanet/blob/main/ExoplanetModel.ipynb\" target=\"_parent\"><img src=\"https://colab.research.google.com/assets/colab-badge.svg\" alt=\"Open In Colab\"/></a>"
   ]
  },
  {
   "cell_type": "markdown",
   "metadata": {
    "id": "q4G0M4o6F7CZ"
   },
   "source": [
    "# Exoplanet Model"
   ]
  },
  {
   "cell_type": "markdown",
   "metadata": {
    "id": "j25Glvxbzv4D"
   },
   "source": [
    "---\n",
    "## Flux Model\n",
    "Simple model of the flux (without limb darkening). Eq. (1) in reference [1] or Eq. (2.1) in [2]."
   ]
  },
  {
   "cell_type": "code",
   "execution_count": 1,
   "metadata": {
    "id": "nAKtfuaXowOQ"
   },
   "outputs": [],
   "source": [
    "import numpy as np\n",
    "import matplotlib.pyplot as plt\n",
    "\n",
    "def L(p, z):\n",
    "  '''\n",
    "  Obstruction function\n",
    "  '''\n",
    "  if z>1+p:\n",
    "    return 0.\n",
    "  elif (1-p<z and z<=1+p):\n",
    "    k0 = np.arccos((p**2 + z**2 -1)/(2*p*z))\n",
    "    k1 = np.arccos((1-p**2 + z**2)/(2*z))\n",
    "    L0 = k0*p**2\n",
    "    L2 = np.sqrt((4*z**2- (1+z**2-p**2)**2)/4) \n",
    "    return (L0 + k1 - L2)/np.pi\n",
    "  elif (z>=0. and z<=1-p):\n",
    "    return p**2\n",
    "  elif z<= p-1: # Check this option!!\n",
    "    return 1.\n",
    "\n",
    "p = 0.1 # Ratio of sizes r_p/r_*\n",
    "\n",
    "n=100 # Number of points in the grid\n",
    "z = np.linspace(0.,1.5,n) #Values of the adimensional distance z\n",
    "F = np.zeros(n) # Flux\n",
    "\n",
    "# Determine the flux at each value of z\n",
    "for i in range(n):\n",
    "  F[i] = 1. - L(p,z[i])\n"
   ]
  },
  {
   "cell_type": "code",
   "execution_count": 4,
   "metadata": {
    "colab": {
     "base_uri": "https://localhost:8080/",
     "height": 446
    },
    "id": "3uiFCKB-7O0i",
    "outputId": "936d080f-cca3-4af9-f607-43fb9c46440d"
   },
   "outputs": [
    {
     "data": {
      "image/png": "[encoded data removed]",
      "text/plain": [
       "<Figure size 504x504 with 1 Axes>"
      ]
     },
     "metadata": {
      "needs_background": "light",
      "tags": []
     },
     "output_type": "display_data"
    }
   ],
   "source": [
    "# Plot the Flux as function of z\n",
    "plt.figure(figsize=(7,7))\n",
    "plt.plot(z, F)\n",
    "plt.hlines(1., 0., 1.2,linestyle='dashed', alpha=0.3)\n",
    "plt.ylim(0.9,1.1)\n",
    "plt.xlabel(r'$z$')\n",
    "plt.ylabel(r'$F(p,z)$')\n",
    "plt.show()"
   ]
  },
  {
   "cell_type": "markdown",
   "metadata": {
    "id": "eVqrf32g1Tzv"
   },
   "source": [
    "---\n",
    "## Limb-Darkening\n",
    "Simple model for the limb-darkening. Eq. (2.2) of [2]."
   ]
  },
  {
   "cell_type": "code",
   "execution_count": 5,
   "metadata": {
    "id": "pSCQi29b7fI8"
   },
   "outputs": [],
   "source": [
    "\n",
    "def I(r):\n",
    "  '''\n",
    "  Limb-darkening function\n",
    "  '''\n",
    "  gamma1 = 0.5 \n",
    "  gamma2 = 0.1\n",
    "  mu = np.sqrt(1-r**2) \n",
    "  return 1. - gamma1*(1-mu) - gamma2*(1-mu)**2\n",
    "\n",
    "# Saptial grid\n",
    "n = 100\n",
    "r = np.linspace(0., 1., n)"
   ]
  },
  {
   "cell_type": "code",
   "execution_count": 6,
   "metadata": {
    "colab": {
     "base_uri": "https://localhost:8080/",
     "height": 461
    },
    "id": "4iX3NxKpCLqZ",
    "outputId": "70477c45-b962-4b85-ab7b-1d9499e873ee"
   },
   "outputs": [
    {
     "data": {
      "image/png": "[encoded data removed]",
      "text/plain": [
       "<Figure size 504x504 with 1 Axes>"
      ]
     },
     "metadata": {
      "needs_background": "light",
      "tags": []
     },
     "output_type": "display_data"
    }
   ],
   "source": [
    "#Plot the limb-darkening function\n",
    "plt.figure(figsize=(7,7))\n",
    "plt.plot(r, I(r))\n",
    "plt.title(r'Limb Darkening')\n",
    "plt.xlabel(r'$I(r)$')\n",
    "plt.ylabel(r'$r$')\n",
    "plt.show()"
   ]
  },
  {
   "cell_type": "markdown",
   "metadata": {
    "id": "nvMi2S62sejj"
   },
   "source": [
    "---\n",
    "## Quadratic Limb Darkening"
   ]
  },
  {
   "cell_type": "code",
   "execution_count": 46,
   "metadata": {
    "colab": {
     "base_uri": "https://localhost:8080/",
     "height": 51
    },
    "id": "g4WflaJ_rMUD",
    "outputId": "fac507ee-7d71-4c32-a939-ea842e003ed8"
   },
   "outputs": [
    {
     "data": {
      "text/latex": [
       "$\\displaystyle \\frac{0.0256039798838679}{\\pi}$"
      ],
      "text/plain": [
       "0.0256039798838679/pi"
      ]
     },
     "execution_count": 46,
     "metadata": {
      "tags": []
     },
     "output_type": "execute_result"
    }
   ],
   "source": [
    "import numpy as np\n",
    "from sympy import elliptic_k, elliptic_e, elliptic_pi, I, pi, N\n",
    "# We import for sympy the following functions\n",
    "# Complete elliptic integral of the first kind:  elliptic_k\n",
    "# Elliptic integral of the second kind: elliptic_e\n",
    "# Elliptic integral of the third kind:  elliptic_pi\n",
    "\n",
    "gamma1 = 0.5 \n",
    "gamma2 = 0.1\n",
    "c2 = gamma1 + 2*gamma2\n",
    "c4 = - gamma2\n",
    "Omega = c2/(2+4) + c4/(4+4)\n",
    "\n",
    "def a_function(p,z):\n",
    "  return (z-p)**2\n",
    "\n",
    "def b_function(p,z):\n",
    "  return (z+p)**2\n",
    "\n",
    "def q_function(p,z):\n",
    "  return p**2 - z**2\n",
    "\n",
    "def k_function(p,z):\n",
    "  return np.sqrt((1-a_function(p,z))/(4*z*p))\n",
    "\n",
    "def kappa_0_function(p,z):\n",
    "  return np.arccos((p**2 + z**2 -1)/(2*p*z))\n",
    "\n",
    "def kappa_1_function(p,z):\n",
    "  return np.arccos((1-p**2 + z**2)/(2*z))\n",
    "\n",
    "def lambda_e(p, z):\n",
    "  '''\n",
    "  Obstruction function lambda_e\n",
    "  '''\n",
    "  if z>1+p:\n",
    "    return 0.\n",
    "  elif (1-p<z and z<=1+p):\n",
    "    kappa0 = kappa_0_function(p,z)\n",
    "    kappa1 = kappa_1_function(p,z)\n",
    "    L0 = kappa0*p**2\n",
    "    L2 = np.sqrt((4*z**2- (1+z**2-p**2)**2)/4) \n",
    "    return (L0 + kappa1 - L2)/np.pi\n",
    "  elif (z>=0. and z<=1-p):\n",
    "    return p**2\n",
    "  elif z<= p-1: # Check this option!!\n",
    "    return 1.\n",
    "\n",
    "def lambda_1(p, z):\n",
    "  '''\n",
    "  Obstruction function lambda_1\n",
    "  '''\n",
    "  a = a_function(p,z)\n",
    "  b = b_function(p,z)\n",
    "  k = k_function(p,z)\n",
    "  q = q_function(p,z)\n",
    "  C = 1/(9*pi*np.sqrt(p*z))\n",
    "  T1 = ((1 - b)*(2*b + a - 3) - 3*q*(b-2))*elliptic_k(k)\n",
    "  T2 = 4*p*z*(z**2 + 7*p**2 - 4)*elliptic_e(k)\n",
    "  T3 = 3*(q/a)*elliptic_pi((a-1)/a,k)\n",
    "  return C*(T1 + T2 - T3)\n",
    "\n",
    "def lambda_2(p, z):\n",
    "  '''\n",
    "  Obstruction function lambda_2\n",
    "  '''\n",
    "  a = a_function(p,z)\n",
    "  b = b_function(p,z)\n",
    "  k = k_function(p,z)\n",
    "  q = q_function(p,z)\n",
    "  C = 2/(9*pi*np.sqrt(1-a))\n",
    "  T1 = (1 - 5*z**2 + p**2 + q**2)*elliptic_k(1/k)\n",
    "  T2 = (1-a)*(z**2 + 7*p**2 - 4)*elliptic_e(1/k)\n",
    "  T3 = 3*(q/a)*elliptic_pi((a-b)/a,1/k)\n",
    "  return C*(T1 + T2 - T3)\n",
    "\n",
    "def lambda_3(p, z):\n",
    "  '''\n",
    "  Obstruction function lambda_3\n",
    "  '''\n",
    "  a = a_function(p,z)\n",
    "  b = b_function(p,z)\n",
    "  k = k_function(p,z)\n",
    "  q = q_function(p,z)\n",
    "  T1 = 1/3. \n",
    "  T2 = (16*p/(9*pi))*(2*p**2 -1)*elliptic_e(1/(2*k))\n",
    "  T3 = ((1 - 4*p**2)*(3 - 8*p**2)/(9*pi*p))*elliptic_k(1/(2*k))\n",
    "  return T1 + T2 - T3\n",
    "\n",
    "def lambda_4(p, z):\n",
    "  '''\n",
    "  Obstruction function lambda_4\n",
    "  '''\n",
    "  k = k_function(p,z)\n",
    "  T1 = 1/3. \n",
    "  T2 = (2/(9*pi))*(4*(2*p**2 -1)*elliptic_e(2*k) + (1 - 4*p**2)*elliptic_k(2*k))\n",
    "  return T1 + T2\n",
    "\n",
    "def lambda_5(p, z):\n",
    "  '''\n",
    "  Obstruction function lambda_5\n",
    "  '''\n",
    "  T1 = (2/(3*pi))*np.arccos(1-2*p) \n",
    "  T2 = (4/(9*pi))*(3 + 2*p - 8*p**2)\n",
    "  return T1 - T2\n",
    "\n",
    "def lambda_6(p, z):\n",
    "  '''\n",
    "  Obstruction function lambda_5\n",
    "  '''\n",
    "  T1 = -(2./3.)*(1 - p**2)**(3./2.)\n",
    "  return T1\n",
    "\n",
    "def eta_2(p,z):\n",
    "  '''\n",
    "  Obstruction function eta_2\n",
    "  '''\n",
    "  T1 = (p**2/2.)*(p**2 + 2*z**2)\n",
    "  return T1\n",
    "\n",
    "def eta_1(p,z):\n",
    "  '''\n",
    "  Obstruction function eta_1\n",
    "  '''\n",
    "  a = a_function(p,z)\n",
    "  b = b_function(p,z)\n",
    "  k = k_function(p,z)\n",
    "  q = q_function(p,z)\n",
    "  kappa0 = kappa_0_function(p,z)\n",
    "  kappa1 = kappa_1_function(p,z)\n",
    "  eta2 = eta_2(p,z)\n",
    "  C = 1/(2*pi)\n",
    "  T1 = kappa1\n",
    "  T2 = 2.*eta2*kappa0\n",
    "  T3 = (1 + 5*p**2 + z**2)*np.sqrt((1-a)*(b-1))/4.\n",
    "  return C*(T1 + T2 - T3)\n"
   ]
  },
  {
   "cell_type": "markdown",
   "metadata": {},
   "source": [
    "## Flux with quadratic limb darkening through numerical integration\n",
    "\n",
    "The paper has problems in the analytic solutions of the integrals of the flux, so it was decided to obtain the theoretical curve by the direct numerical integration in the equation of the flux"
   ]
  },
  {
   "cell_type": "code",
   "execution_count": 1,
   "metadata": {},
   "outputs": [
    {
     "data": {
      "image/png": "[encoded data removed]",
      "text/plain": [
       "<Figure size 504x504 with 1 Axes>"
      ]
     },
     "metadata": {
      "needs_background": "light"
     },
     "output_type": "display_data"
    }
   ],
   "source": [
    "# Quadratic Limb Darkening Model\n",
    "\n",
    "from scipy.misc import derivative\n",
    "import scipy.integrate as integrate\n",
    "import numpy as np\n",
    "import matplotlib.pyplot as plt\n",
    "\n",
    "def L(r, P, Z):\n",
    "  '''\n",
    "  Obstruction function\n",
    "  '''\n",
    "  p = P/r\n",
    "  z = Z/r\n",
    "  if z>1+p:\n",
    "    return 0.\n",
    "  elif (abs(1-p)<z and z<=1+p):\n",
    "    k0 = np.arccos((p**2 + z**2 -1)/(2*p*z))\n",
    "    k1 = np.arccos((1-p**2 + z**2)/(2*z))\n",
    "    L0 = k0*p**2\n",
    "    L2 = np.sqrt((4*z**2- (1+z**2-p**2)**2)/4) \n",
    "    return (L0 + k1 - L2)*r**2/np.pi\n",
    "  elif (z<=1-p):\n",
    "    return p**2*r**2\n",
    "  elif z<= p-1: # Check this option!!\n",
    "    return 1.*r**2\n",
    "\n",
    "\n",
    "def I_function(r):\n",
    "  '''\n",
    "  Quadratic limb-darkening function\n",
    "  '''\n",
    "  mu = np.sqrt(1-r**2) \n",
    "  return 1. - gamma1*(1-mu) - gamma2*(1-mu)**2\n",
    "\n",
    "\n",
    "def integrand_1(r, p, z):\n",
    "  '''\n",
    "  Integrand in the numerator\n",
    "  '''\n",
    "  T1 = derivative(L, r, dx=1e-6, args=(p,z))\n",
    "  T2 = I_function(r)\n",
    "  return T1*T2\n",
    "\n",
    "\n",
    "def integrand_2(r):\n",
    "  '''\n",
    "  Integrand in the denominator\n",
    "  '''\n",
    "  return I_function(r)*2*r\n",
    "\n",
    "# Parameters for the model\n",
    "gamma1 = 0.296 \n",
    "gamma2 = 0.34\n",
    "p=0.1\n",
    "\n",
    "# Discretization grid\n",
    "N = 100\n",
    "z_range = np.linspace(0.,1.2,N)\n",
    "F = np.zeros(N)\n",
    "\n",
    "# Main Loop to calculate the Flux\n",
    "for i in range(N):\n",
    "  Integral_1 = integrate.quad(integrand_1, 0.0001, 1., args=(p,z_range[i]))[0]\n",
    "  Integral_2 = integrate.quad(integrand_2, 0.0001, 1.)[0]\n",
    "  F[i] = 1. - Integral_1/Integral_2\n",
    "\n",
    "# Plot the Flux as function of z\n",
    "plt.figure(figsize=(7,7))\n",
    "plt.plot(z_range, F)\n",
    "plt.hlines(1., 0., 1.2,linestyle='dashed', alpha=0.3)\n",
    "plt.xlabel(r'$z$')\n",
    "plt.ylabel(r'$F(p,z)$')\n",
    "plt.show()"
   ]
  },
  {
   "cell_type": "markdown",
   "metadata": {},
   "source": [
    "## Orbital model\n",
    "\n",
    "### Circular orbit\n",
    "\n",
    "For a circular orbit we have that the radial velocity of the planet around the star behaves as\n",
    "\n",
    "\\begin{equation}\n",
    "    V_R(t) = K \\cdot sin\\left(\\frac{2 \\pi}{P}t+t_0\\right) + V_{R0} \n",
    "\\end{equation}\n",
    "\n",
    "where $t$ is the time, $K$ is the absolute of the maximum radial velo city, $P$ is the period of the orbit, $t_0$\n",
    "is the phase and $V_{R0}$ is the radial velo city of the system's center of mass."
   ]
  },
  {
   "cell_type": "code",
   "execution_count": null,
   "metadata": {},
   "outputs": [],
   "source": [
    "import numpy as np\n",
    "import matplotlib.pyplot as plt\n",
    "\n",
    "def radial_velocity(K, P, t, t_0 = 0, V_R0 = 0):\n",
    "    \"\"\"\n",
    "    By default t_0 = 0 and V_R0 = 0\n",
    "    \"\"\"\n",
    "    return K*np.sin((2*np.pi/P)*t+t_0) + V_R0\n",
    "\n"
   ]
  },
  {
   "cell_type": "markdown",
   "metadata": {
    "id": "UuJQ-xDB1mCn"
   },
   "source": [
    "---\n",
    "## References\n",
    "\n",
    "\n",
    "1. [astro-ph:0210099.pdf](https://arxiv.org/pdf/astro-ph/0210099.pdf).\n",
    "\n",
    "2. [Modelling Exoplanets by D. Compton, D. Juncher and N. Vinyoles](https://phys.au.dk/fileadmin/Project_updated_gr.1.pdf)"
   ]
  }
 ],
 "metadata": {
  "colab": {
   "authorship_tag": "ABX9TyMjutcivY3k4J5q6DI5WC5x",
   "collapsed_sections": [],
   "include_colab_link": true,
   "mount_file_id": "1CP3hzEwfA7nHp4duMTr-t3GdLsGtb9Zc",
   "name": "ExoplanetModel.ipynb",
   "provenance": []
  },
  "kernelspec": {
   "display_name": "Python 3",
   "language": "python",
   "name": "python3"
  },
  "language_info": {
   "codemirror_mode": {
    "name": "ipython",
    "version": 3
   },
   "file_extension": ".py",
   "mimetype": "text/x-python",
   "name": "python",
   "nbconvert_exporter": "python",
   "pygments_lexer": "ipython3",
   "version": "3.8.8"
  }
 },
 "nbformat": 4,
 "nbformat_minor": 4
}
