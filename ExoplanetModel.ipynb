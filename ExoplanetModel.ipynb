{
  "nbformat": 4,
  "nbformat_minor": 0,
  "metadata": {
    "colab": {
      "name": "ExoplanetModel.ipynb",
      "provenance": [],
      "collapsed_sections": [],
      "mount_file_id": "1CP3hzEwfA7nHp4duMTr-t3GdLsGtb9Zc",
      "authorship_tag": "ABX9TyNRW0jembv3mVh05vADbxLo",
      "include_colab_link": true
    },
    "kernelspec": {
      "name": "python3",
      "display_name": "Python 3"
    },
    "language_info": {
      "name": "python"
    }
  },
  "cells": [
    {
      "cell_type": "markdown",
      "metadata": {
        "id": "view-in-github",
        "colab_type": "text"
      },
      "source": [
        "<a href=\"https://colab.research.google.com/github/ashcat2005/lightcurve-exoplanet/blob/main/ExoplanetModel.ipynb\" target=\"_parent\"><img src=\"https://colab.research.google.com/assets/colab-badge.svg\" alt=\"Open In Colab\"/></a>"
      ]
    },
    {
      "cell_type": "markdown",
      "metadata": {
        "id": "q4G0M4o6F7CZ"
      },
      "source": [
        "# Exoplanet Model"
      ]
    },
    {
      "cell_type": "markdown",
      "metadata": {
        "id": "j25Glvxbzv4D"
      },
      "source": [
        "---\n",
        "## Flux Model\n",
        "Simple model of the flux (without limb darkening). Eq. (1) in reference [1] or Eq. (2.1) in [2]."
      ]
    },
    {
      "cell_type": "code",
      "metadata": {
        "id": "nAKtfuaXowOQ"
      },
      "source": [
        "import numpy as np\n",
        "import matplotlib.pyplot as plt\n",
        "\n",
        "def L(p, z):\n",
        "  '''\n",
        "  Obstruction function\n",
        "  '''\n",
        "  if z>1+p:\n",
        "    return 0.\n",
        "  elif (1-p<z and z<=1+p):\n",
        "    k0 = np.arccos((p**2 + z**2 -1)/(2*p*z))\n",
        "    k1 = np.arccos((1-p**2 + z**2)/(2*z))\n",
        "    L0 = k0*p**2\n",
        "    L2 = np.sqrt((4*z**2- (1+z**2-p**2)**2)/4) \n",
        "    return (L0 + k1 - L2)/np.pi\n",
        "  elif (z>=0. and z<=1-p):\n",
        "    return p**2\n",
        "  elif z<= p-1: # Check this option!!\n",
        "    return 1.\n",
        "\n",
        "p = 0.1 # Ratio of sizes r_p/r_*\n",
        "\n",
        "n=100 # Number of points in the grid\n",
        "z = np.linspace(0.,1.5,n) #Values of the adimensional distance z\n",
        "F = np.zeros(n) # Flux\n",
        "\n",
        "# Determine the flux at each value of z\n",
        "for i in range(n):\n",
        "  F[i] = 1. - L(p,z[i])\n"
      ],
      "execution_count": 1,
      "outputs": []
    },
    {
      "cell_type": "code",
      "metadata": {
        "colab": {
          "base_uri": "https://localhost:8080/",
          "height": 446
        },
        "id": "3uiFCKB-7O0i",
        "outputId": "936d080f-cca3-4af9-f607-43fb9c46440d"
      },
      "source": [
        "# Plot the Flux as function of z\n",
        "plt.figure(figsize=(7,7))\n",
        "plt.plot(z, F)\n",
        "plt.hlines(1., 0., 1.2,linestyle='dashed', alpha=0.3)\n",
        "plt.ylim(0.9,1.1)\n",
        "plt.xlabel(r'$z$')\n",
        "plt.ylabel(r'$F(p,z)$')\n",
        "plt.show()"
      ],
      "execution_count": 4,
      "outputs": [
        {
          "output_type": "display_data",
          "data": {
            "image/png": "[encoded data removed]",
            "text/plain": [
              "<Figure size 504x504 with 1 Axes>"
            ]
          },
          "metadata": {
            "tags": [],
            "needs_background": "light"
          }
        }
      ]
    },
    {
      "cell_type": "markdown",
      "metadata": {
        "id": "eVqrf32g1Tzv"
      },
      "source": [
        "---\n",
        "## Limb-Darkening\n",
        "Simple model for the limb-darkening. Eq. (2.2) of [2]."
      ]
    },
    {
      "cell_type": "code",
      "metadata": {
        "id": "pSCQi29b7fI8"
      },
      "source": [
        "\n",
        "def I(r):\n",
        "  '''\n",
        "  Limb-darkening function\n",
        "  '''\n",
        "  gamma1 = 0.5 \n",
        "  gamma2 = 0.1\n",
        "  mu = np.sqrt(1-r**2) \n",
        "  return 1. - gamma1*(1-mu) - gamma2*(1-mu)**2\n",
        "\n",
        "# Saptial grid\n",
        "n = 100\n",
        "r = np.linspace(0., 1., n)"
      ],
      "execution_count": 5,
      "outputs": []
    },
    {
      "cell_type": "code",
      "metadata": {
        "colab": {
          "base_uri": "https://localhost:8080/",
          "height": 461
        },
        "id": "4iX3NxKpCLqZ",
        "outputId": "70477c45-b962-4b85-ab7b-1d9499e873ee"
      },
      "source": [
        "#Plot the limb-darkening function\n",
        "plt.figure(figsize=(7,7))\n",
        "plt.plot(r, I(r))\n",
        "plt.title(r'Limb Darkening')\n",
        "plt.xlabel(r'$I(r)$')\n",
        "plt.ylabel(r'$r$')\n",
        "plt.show()"
      ],
      "execution_count": 6,
      "outputs": [
        {
          "output_type": "display_data",
          "data": {
            "image/png": "[encoded data removed]",
            "text/plain": [
              "<Figure size 504x504 with 1 Axes>"
            ]
          },
          "metadata": {
            "tags": [],
            "needs_background": "light"
          }
        }
      ]
    },
    {
      "cell_type": "markdown",
      "metadata": {
        "id": "UuJQ-xDB1mCn"
      },
      "source": [
        "---\n",
        "## References\n",
        "\n",
        "\n",
        "1. [astro-ph:0210099.pdf](https://arxiv.org/pdf/astro-ph/0210099.pdf).\n",
        "\n",
        "2. [Modelling Exoplanets by D. Compton, D. Juncher and N. Vinyoles](https://phys.au.dk/fileadmin/Project_updated_gr.1.pdf)"
      ]
    }
  ]
}