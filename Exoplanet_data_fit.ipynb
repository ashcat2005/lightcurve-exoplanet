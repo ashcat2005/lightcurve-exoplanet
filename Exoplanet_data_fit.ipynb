{
 "cells": [
  {
   "cell_type": "code",
   "execution_count": 2,
   "id": "787bd00f-25ce-4001-9b1b-5e3786558288",
   "metadata": {},
   "outputs": [
    {
     "name": "stdout",
     "output_type": "stream",
     "text": [
      "Filename: hat-p-7.fits\n",
      "No.    Name      Ver    Type      Cards   Dimensions   Format\n",
      "  0  PRIMARY       1 PrimaryHDU      56   ()      \n",
      "  1  TCE_1         1 BinTableHDU    106   71427R x 10C   [D, E, J, E, E, E, E, E, E, E]   \n",
      "  2  TCE_2         1 BinTableHDU    106   71427R x 10C   [D, E, J, E, E, E, E, E, E, E]   \n",
      "  3  TCE_3         1 BinTableHDU    106   71427R x 10C   [D, E, J, E, E, E, E, E, E, E]   \n",
      "  4  TCE_4         1 BinTableHDU    106   71427R x 10C   [D, E, J, E, E, E, E, E, E, E]   \n",
      "  5  TCE_5         1 BinTableHDU    106   71427R x 10C   [D, E, J, E, E, E, E, E, E, E]   \n",
      "  6  TCE_6         1 BinTableHDU    106   71427R x 10C   [D, E, J, E, E, E, E, E, E, E]   \n",
      "  7  TCE_7         1 BinTableHDU    106   71427R x 10C   [D, E, J, E, E, E, E, E, E, E]   \n",
      "  8  Statistics    1 BinTableHDU    221   71427R x 50C   [D, E, J, E, E, E, E, J, E, E, E, E, E, E, E, E, E, E, E, E, E, E, E, E, E, E, E, E, E, E, E, E, E, E, E, E, E, E, E, E, E, E, E, E, E, E, E, E, E, E]   \n"
     ]
    }
   ],
   "source": [
    "from astropy.io import fits\n",
    "\n",
    "hat = fits.open('hat-p-7.fits')\n",
    "hat.info()"
   ]
  },
  {
   "cell_type": "code",
   "execution_count": 11,
   "id": "c33a4b7c",
   "metadata": {},
   "outputs": [
    {
     "data": {
      "text/html": [
       "<i>Table length=71427</i>\n",
       "<table id=\"table139956979534336\" class=\"table-striped table-bordered table-condensed\">\n",
       "<thead><tr><th>TIME</th><th>TIMECORR</th><th>CADENCENO</th><th>PHASE</th><th>LC_INIT</th><th>LC_INIT_ERR</th><th>LC_WHITE</th><th>LC_DETREND</th><th>MODEL_INIT</th><th>MODEL_WHITE</th></tr></thead>\n",
       "<thead><tr><th>BJD - 2454833</th><th>d</th><th></th><th>days</th><th>dimensionless</th><th>dimensionless</th><th>dimensionless</th><th>dimensionless</th><th>dimensionless</th><th>dimensionless</th></tr></thead>\n",
       "<thead><tr><th>float64</th><th>float32</th><th>int32</th><th>float32</th><th>float32</th><th>float32</th><th>float32</th><th>float32</th><th>float32</th><th>float32</th></tr></thead>\n",
       "<tr><td>1.3151205e+02</td><td>-1.059829e-03</td><td>1105</td><td>1.3335272e+00</td><td>-3.9541512e-05</td><td>2.5503115e-05</td><td>-3.4372607e-01</td><td>-3.9541512e-05</td><td>0.0000000e+00</td><td>1.0576324e-01</td></tr>\n",
       "<tr><td>1.3153249e+02</td><td>-1.060562e-03</td><td>1106</td><td>1.3539616e+00</td><td>-2.2603195e-05</td><td>2.5496436e-05</td><td>2.9184762e-02</td><td>-2.2603195e-05</td><td>0.0000000e+00</td><td>2.0860007e-01</td></tr>\n",
       "<tr><td>1.3155292e+02</td><td>-1.061294e-03</td><td>1107</td><td>1.3743960e+00</td><td>-3.5658915e-05</td><td>2.5480678e-05</td><td>-1.1320674e-01</td><td>-3.5658915e-05</td><td>0.0000000e+00</td><td>3.0092743e-01</td></tr>\n",
       "<tr><td>1.3157336e+02</td><td>-1.062026e-03</td><td>1108</td><td>1.3948301e+00</td><td>-3.3626442e-05</td><td>2.5509618e-05</td><td>-4.3413952e-02</td><td>-3.3626442e-05</td><td>0.0000000e+00</td><td>3.7470224e-01</td></tr>\n",
       "<tr><td>1.3159379e+02</td><td>-1.062758e-03</td><td>1109</td><td>1.4152645e+00</td><td>7.2438757e-05</td><td>2.5514733e-05</td><td>1.6507578e+00</td><td>7.2438757e-05</td><td>0.0000000e+00</td><td>4.2141774e-01</td></tr>\n",
       "<tr><td>1.3161423e+02</td><td>-1.063491e-03</td><td>1110</td><td>1.4356989e+00</td><td>-1.9167643e-05</td><td>2.5512811e-05</td><td>1.9305673e-01</td><td>-1.9167643e-05</td><td>0.0000000e+00</td><td>4.3312293e-01</td></tr>\n",
       "<tr><td>1.3163466e+02</td><td>-1.064223e-03</td><td>1111</td><td>1.4561331e+00</td><td>-7.2684234e-05</td><td>2.5516729e-05</td><td>-7.3616058e-01</td><td>-7.2684234e-05</td><td>0.0000000e+00</td><td>4.0229556e-01</td></tr>\n",
       "<tr><td>1.3165509e+02</td><td>-1.064955e-03</td><td>1112</td><td>1.4765675e+00</td><td>-2.8484281e-05</td><td>2.5502908e-05</td><td>-1.6856681e-01</td><td>-2.8484281e-05</td><td>0.0000000e+00</td><td>3.2288116e-01</td></tr>\n",
       "<tr><td>1.3167553e+02</td><td>-1.065687e-03</td><td>1113</td><td>1.4970019e+00</td><td>3.9872808e-05</td><td>2.5496485e-05</td><td>8.3033907e-01</td><td>3.9872808e-05</td><td>0.0000000e+00</td><td>1.9078755e-01</td></tr>\n",
       "<tr><td>...</td><td>...</td><td>...</td><td>...</td><td>...</td><td>...</td><td>...</td><td>...</td><td>...</td><td>...</td></tr>\n",
       "<tr><td>1.5908174e+03</td><td>-1.061891e-04</td><td>72522</td><td>1.1066802e+00</td><td>1.5684051e-05</td><td>2.5919115e-05</td><td>4.3721384e-01</td><td>1.5684051e-05</td><td>0.0000000e+00</td><td>1.3786532e-01</td></tr>\n",
       "<tr><td>1.5908378e+03</td><td>-1.068950e-04</td><td>72523</td><td>1.1271145e+00</td><td>-4.2093197e-05</td><td>2.5919942e-05</td><td>-8.9334673e-01</td><td>-4.2093197e-05</td><td>0.0000000e+00</td><td>1.6343018e-01</td></tr>\n",
       "<tr><td>1.5908582e+03</td><td>-1.076009e-04</td><td>72524</td><td>1.1475488e+00</td><td>1.5864798e-05</td><td>2.5927566e-05</td><td>5.0409234e-01</td><td>1.5864798e-05</td><td>0.0000000e+00</td><td>1.9213639e-01</td></tr>\n",
       "<tr><td>1.5908787e+03</td><td>-1.083069e-04</td><td>72525</td><td>1.1679831e+00</td><td>-1.6757078e-05</td><td>2.5910123e-05</td><td>-2.8405079e-01</td><td>-1.6757078e-05</td><td>0.0000000e+00</td><td>2.2296950e-01</td></tr>\n",
       "<tr><td>1.5908991e+03</td><td>-1.090130e-04</td><td>72526</td><td>1.1884174e+00</td><td>-1.3110765e-05</td><td>2.5921099e-05</td><td>-1.1579718e-01</td><td>-1.3110765e-05</td><td>0.0000000e+00</td><td>2.5493979e-01</td></tr>\n",
       "<tr><td>1.5909195e+03</td><td>-1.097191e-04</td><td>72527</td><td>1.2088517e+00</td><td>-2.1601807e-05</td><td>2.5899915e-05</td><td>-2.4206355e-01</td><td>-2.1601807e-05</td><td>0.0000000e+00</td><td>2.8712964e-01</td></tr>\n",
       "<tr><td>1.5909400e+03</td><td>-1.104254e-04</td><td>72528</td><td>1.2292861e+00</td><td>-2.4176657e-06</td><td>2.5920064e-05</td><td>1.8408221e-01</td><td>-2.4176657e-06</td><td>0.0000000e+00</td><td>3.1875074e-01</td></tr>\n",
       "<tr><td>1.5909604e+03</td><td>-1.111317e-04</td><td>72529</td><td>1.2497203e+00</td><td>-6.9596713e-06</td><td>2.5909627e-05</td><td>-2.9629543e-01</td><td>-6.9596713e-06</td><td>0.0000000e+00</td><td>3.4915897e-01</td></tr>\n",
       "<tr><td>1.5909808e+03</td><td>-1.118380e-04</td><td>72530</td><td>1.2701546e+00</td><td>6.3239095e-05</td><td>2.5841317e-05</td><td>6.1726952e-01</td><td>6.3239095e-05</td><td>0.0000000e+00</td><td>3.7782738e-01</td></tr>\n",
       "<tr><td>1.5910013e+03</td><td>-1.125445e-04</td><td>72531</td><td>1.2905890e+00</td><td>1.8839075e-04</td><td>2.5825500e-05</td><td>2.6422541e+00</td><td>1.8839075e-04</td><td>0.0000000e+00</td><td>4.0432364e-01</td></tr>\n",
       "</table>"
      ],
      "text/plain": [
       "<Table length=71427>\n",
       "     TIME         TIMECORR   CADENCENO  ...   MODEL_INIT    MODEL_WHITE  \n",
       "BJD - 2454833        d                  ... dimensionless  dimensionless \n",
       "   float64        float32      int32    ...    float32        float32    \n",
       "-------------- ------------- ---------- ... -------------- --------------\n",
       " 1.3151205e+02 -1.059829e-03       1105 ...  0.0000000e+00  1.0576324e-01\n",
       " 1.3153249e+02 -1.060562e-03       1106 ...  0.0000000e+00  2.0860007e-01\n",
       " 1.3155292e+02 -1.061294e-03       1107 ...  0.0000000e+00  3.0092743e-01\n",
       " 1.3157336e+02 -1.062026e-03       1108 ...  0.0000000e+00  3.7470224e-01\n",
       " 1.3159379e+02 -1.062758e-03       1109 ...  0.0000000e+00  4.2141774e-01\n",
       " 1.3161423e+02 -1.063491e-03       1110 ...  0.0000000e+00  4.3312293e-01\n",
       " 1.3163466e+02 -1.064223e-03       1111 ...  0.0000000e+00  4.0229556e-01\n",
       " 1.3165509e+02 -1.064955e-03       1112 ...  0.0000000e+00  3.2288116e-01\n",
       " 1.3167553e+02 -1.065687e-03       1113 ...  0.0000000e+00  1.9078755e-01\n",
       "           ...           ...        ... ...            ...            ...\n",
       " 1.5908174e+03 -1.061891e-04      72522 ...  0.0000000e+00  1.3786532e-01\n",
       " 1.5908378e+03 -1.068950e-04      72523 ...  0.0000000e+00  1.6343018e-01\n",
       " 1.5908582e+03 -1.076009e-04      72524 ...  0.0000000e+00  1.9213639e-01\n",
       " 1.5908787e+03 -1.083069e-04      72525 ...  0.0000000e+00  2.2296950e-01\n",
       " 1.5908991e+03 -1.090130e-04      72526 ...  0.0000000e+00  2.5493979e-01\n",
       " 1.5909195e+03 -1.097191e-04      72527 ...  0.0000000e+00  2.8712964e-01\n",
       " 1.5909400e+03 -1.104254e-04      72528 ...  0.0000000e+00  3.1875074e-01\n",
       " 1.5909604e+03 -1.111317e-04      72529 ...  0.0000000e+00  3.4915897e-01\n",
       " 1.5909808e+03 -1.118380e-04      72530 ...  0.0000000e+00  3.7782738e-01\n",
       " 1.5910013e+03 -1.125445e-04      72531 ...  0.0000000e+00  4.0432364e-01"
      ]
     },
     "execution_count": 11,
     "metadata": {},
     "output_type": "execute_result"
    }
   ],
   "source": [
    "from astropy.table import Table\n",
    "\n",
    "TCE_1 = hat['TCE_1']\n",
    "Table.read(TCE_1)"
   ]
  }
 ],
 "metadata": {
  "kernelspec": {
   "display_name": "Python 3",
   "language": "python",
   "name": "python3"
  },
  "language_info": {
   "codemirror_mode": {
    "name": "ipython",
    "version": 3
   },
   "file_extension": ".py",
   "mimetype": "text/x-python",
   "name": "python",
   "nbconvert_exporter": "python",
   "pygments_lexer": "ipython3",
   "version": "3.8.8"
  }
 },
 "nbformat": 4,
 "nbformat_minor": 5
}
